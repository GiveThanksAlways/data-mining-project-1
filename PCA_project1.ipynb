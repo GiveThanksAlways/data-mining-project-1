{
 "cells": [
  {
   "cell_type": "code",
   "execution_count": 1,
   "metadata": {},
   "outputs": [],
   "source": [
    "import os\n",
    "import pandas as pd\n",
    "import numpy as np\n",
    "import matplotlib.pyplot as plt\n"
   ]
  },
  {
   "cell_type": "code",
   "execution_count": 2,
   "metadata": {},
   "outputs": [],
   "source": [
    "groundTruth_Users = os.listdir(\"groundTruth\")\n",
    "MyoData_Users = os.listdir(\"MyoData\")"
   ]
  },
  {
   "cell_type": "code",
   "execution_count": 3,
   "metadata": {},
   "outputs": [],
   "source": [
    "user_id = []\n",
    "for i in range(len(MyoData_Users)):\n",
    "    if MyoData_Users[i] in groundTruth_Users:\n",
    "        user_id.append(MyoData_Users[i])\n",
    "        \n",
    "directory_clean_data = \"clean_data/\"\n",
    "if not os.path.exists(directory_clean_data):\n",
    "        os.makedirs(directory_clean_data)"
   ]
  },
  {
   "cell_type": "code",
   "execution_count": 4,
   "metadata": {},
   "outputs": [],
   "source": [
    "def get_paths(user, fork_or_spoon= 'fork'):\n",
    "    parent_path = \"MyoData/\" + user + '/' + fork_or_spoon\n",
    "    dir_list = os.listdir(parent_path)\n",
    "    EMG_txt_path = parent_path + \"/\" + dir_list[0]\n",
    "    IMU_txt_path = parent_path + \"/\" + dir_list[1]\n",
    "    video_info_path = parent_path + \"/\" + dir_list[2]\n",
    "    # get ground truth\n",
    "    ground_truth_parent_path = \"groundTruth/\" + user + '/' + fork_or_spoon\n",
    "    ground_truth_dir_list = os.listdir(ground_truth_parent_path)\n",
    "    ground_truth_path = ground_truth_parent_path + \"/\" + ground_truth_dir_list[0]\n",
    "    return (EMG_txt_path, IMU_txt_path, video_info_path, ground_truth_path)\n",
    "\n",
    "def mul(x, y):\n",
    "    try:\n",
    "        return np.round(pd.to_numeric(x) * y)\n",
    "    except:\n",
    "        return x\n",
    "\n",
    "def get_dataframe(user = \"user10\", data_for=\"EMG\", fork_or_spoon=\"fork\"):\n",
    "    paths = get_paths(user, fork_or_spoon)\n",
    "    if data_for == \"EMG\":\n",
    "        df = pd.read_csv(paths[0], sep=\",\", header=None)\n",
    "        df.columns = ['UNIX time stamp', 'EMG 1', 'EMG 2', 'EMG 3', 'EMG 4', 'EMG 5', 'EMG 6', 'EMG 7', 'EMG 8']\n",
    "        return df.assign(eating=False)\n",
    "    elif( data_for == \"IMU\"):\n",
    "        df = pd.read_csv(paths[1], sep=\",\", header=None)\n",
    "        df.columns = ['UNIX time stamp', 'Orientation X', 'Orientation Y', 'Orientation Z', 'Orientation W', 'Accelerometer X', 'Accelerometer Y', 'Accelerometer Z', 'Gyroscope X', 'Gyroscope Y','Gyroscope Z'] \n",
    "        return df.assign(eating=False)\n",
    "    elif( data_for == \"ground_truth\"):\n",
    "        df = pd.read_csv(paths[3], sep=\",\", header=None)\n",
    "        df.columns = [\"start\",\"stop\", \"noise\"] \n",
    "        df.drop(['noise'],axis=1,inplace=True)\n",
    "        return df.applymap(lambda x: mul(x, 100/30))\n",
    "    else:\n",
    "        df = pd.read_csv(paths[2], header=None)\n",
    "        df.columns = [\"starting frame\", \"ending frame\"]\n",
    "        return df\n",
    "    \n",
    "def save_clean_data(df_ground_truth, df, name, user, fork_or_spoon=\"fork\"):\n",
    "    for index, row in df_ground_truth.iterrows():\n",
    "        eating_start = row[0] # note: maybe add one here. depends on if index at 0 or 1. I assumed 0\n",
    "        eating_stop = row[1]\n",
    "        df.loc[ eating_start:eating_stop , 'eating'] = True\n",
    "    \n",
    "\n",
    "    df_eating = df[df['eating'] == True]\n",
    "    df_not_eating = df[df['eating'] == False]\n",
    "    \n",
    "    directory = \"clean_data/\" + user + \"/\" + fork_or_spoon\n",
    "    if not os.path.exists(directory):\n",
    "        os.makedirs(directory)\n",
    "    \n",
    "    #df_eating.to_csv(sep=',', index=False, header=False)\n",
    "    df_eating.reset_index(drop=True,inplace=True)\n",
    "    df_not_eating.reset_index(drop=True,inplace=True)\n",
    "    min_data_points = min(df_eating.shape[0], df_not_eating.shape[0])\n",
    "    df_eating = df_eating.iloc[:min_data_points]\n",
    "    df_not_eating = df_not_eating.iloc[:min_data_points]\n",
    "    \n",
    "    df_eating.to_csv(path_or_buf=directory+\"/eating_\" + name + \".txt\", sep=',')\n",
    "    df_not_eating.to_csv(path_or_buf=directory+\"/not_eating_\" + name + \".txt\", sep=',')\n",
    "    df.to_csv(path_or_buf=directory+\"/master_df\" + name + \".txt\", sep=',')\n",
    "    "
   ]
  },
  {
   "cell_type": "code",
   "execution_count": 5,
   "metadata": {},
   "outputs": [],
   "source": [
    "# This code takes ~2 mins to run. SO only run when necessary\n",
    "def clean_data_for_each_user():\n",
    "    \n",
    "    for user in user_id:\n",
    "        for fork_or_spoon in ['spoon','fork']:\n",
    "            try:\n",
    "                df_EMG = get_dataframe(user, data_for=\"EMG\", fork_or_spoon=fork_or_spoon)\n",
    "                df_IMU = get_dataframe(user, data_for=\"IMU\", fork_or_spoon=fork_or_spoon)\n",
    "                df_ground_truth = get_dataframe(user, data_for=\"ground_truth\", fork_or_spoon=fork_or_spoon)\n",
    "\n",
    "                save_clean_data(df_ground_truth, df_EMG, name=\"EMG\", user=user, fork_or_spoon=fork_or_spoon)\n",
    "                save_clean_data(df_ground_truth, df_IMU, name=\"IMU\", user=user, fork_or_spoon=fork_or_spoon)\n",
    "            except:\n",
    "                print(\"folder name for users don't match or error in csv for ---> \" + user)\n",
    "                print(\"removing from list of users to use in the project\")\n",
    "                user_id.remove(user)"
   ]
  },
  {
   "cell_type": "code",
   "execution_count": 6,
   "metadata": {},
   "outputs": [],
   "source": [
    "# This code takes ~4 mins to run. SO only run when necessary\n",
    "\n",
    "# clean_data_for_each_user()"
   ]
  },
  {
   "cell_type": "markdown",
   "metadata": {},
   "source": [
    "# Feature Extraction"
   ]
  },
  {
   "cell_type": "code",
   "execution_count": null,
   "metadata": {},
   "outputs": [],
   "source": [
    "user_id = os.listdir(\"clean_data\")\n",
    "user_id.remove('.ipynb_checkpoints')"
   ]
  }
 ],
 "metadata": {
  "kernelspec": {
   "display_name": "Python 3",
   "language": "python",
   "name": "python3"
  },
  "language_info": {
   "codemirror_mode": {
    "name": "ipython",
    "version": 3
   },
   "file_extension": ".py",
   "mimetype": "text/x-python",
   "name": "python",
   "nbconvert_exporter": "python",
   "pygments_lexer": "ipython3",
   "version": "3.7.4"
  }
 },
 "nbformat": 4,
 "nbformat_minor": 4
}
