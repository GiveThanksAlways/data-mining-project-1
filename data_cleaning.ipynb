{
 "cells": [
  {
   "cell_type": "code",
   "execution_count": 1,
   "metadata": {},
   "outputs": [],
   "source": [
    "import os\n",
    "import pandas as pd\n",
    "import numpy as np\n",
    "import matplotlib.pyplot as plt\n",
    "\n",
    "# groundTruth ignore the third column\n",
    "# the first number is the starting frame of an eating action, the 2nd number is the ending frame of an eating action\n",
    "\n",
    "# video data is 30 frames per second (need to convert frame numbers into sample numbers)\n",
    "# sensor sampling rate is 50 Hz \n",
    "\n",
    "# ... we can synchronize two dataset by setting the last frame time to the last UNIX time stamp in IMU or EMG file.\n",
    "\n",
    "# ok, so when one second goes by, the sensors took in 50 readings (50 Hz), and in that time, the video took in 30 frames\n",
    "# so we have to divide up the 50 data points (for each sensor) amoung the 30 frames taken in that one second\n",
    "# hence why they say multiply by 50 and divide by 30 for the frame.\n",
    "# if you just divide frame number by 30, then you get seconds. (30 frames = 1 second)"
   ]
  },
  {
   "cell_type": "code",
   "execution_count": 2,
   "metadata": {},
   "outputs": [],
   "source": [
    "groundTruth_Users = os.listdir(\"groundTruth\")\n",
    "MyoData_Users = os.listdir(\"MyoData\")\n",
    "groundTruth_Users.sort()\n",
    "MyoData_Users.sort()"
   ]
  },
  {
   "cell_type": "code",
   "execution_count": 3,
   "metadata": {},
   "outputs": [],
   "source": [
    "user_id = []\n",
    "for i in range(len(MyoData_Users)):\n",
    "    if MyoData_Users[i] == groundTruth_Users[i]:\n",
    "        user_id.append(MyoData_Users[i])"
   ]
  },
  {
   "cell_type": "code",
   "execution_count": 4,
   "metadata": {},
   "outputs": [],
   "source": [
    "def get_paths(user, fork_or_spoon= 'fork'):\n",
    "    parent_path = \"MyoData/\" + user + '/' + fork_or_spoon\n",
    "    dir_list = os.listdir(parent_path)\n",
    "    EMG_txt_path = parent_path + \"/\" + dir_list[0]\n",
    "    IMU_txt_path = parent_path + \"/\" + dir_list[1]\n",
    "    video_info_path = parent_path + \"/\" + dir_list[2]\n",
    "    # get ground truth\n",
    "    ground_truth_parent_path = \"groundTruth/\" + user + '/' + fork_or_spoon\n",
    "    ground_truth_dir_list = os.listdir(ground_truth_parent_path)\n",
    "    ground_truth_path = ground_truth_parent_path + \"/\" + ground_truth_dir_list[0]\n",
    "    return (EMG_txt_path, IMU_txt_path, video_info_path, ground_truth_path)\n",
    "\n",
    "def mul(x, y):\n",
    "    try:\n",
    "        return np.round(pd.to_numeric(x) * y)\n",
    "    except:\n",
    "        return x\n",
    "\n",
    "def get_dataframe(user = \"user09\", data_for=\"EMG\"):\n",
    "    paths = get_paths(user)\n",
    "    if data_for == \"EMG\":\n",
    "        df = pd.read_csv(paths[0], sep=\",\", header=None)\n",
    "        df.columns = ['UNIX time stamp', 'EMG 1', 'EMG 2', 'EMG 3', 'EMG 4', 'EMG 5', 'EMG 6', 'EMG 7', 'EMG 8']\n",
    "        return df.assign(eating=False)\n",
    "    elif( data_for == \"IMU\"):\n",
    "        df = pd.read_csv(paths[1], sep=\",\", header=None)\n",
    "        df.columns = ['UNIX time stamp', 'Orientation X', 'Orientation Y', 'Orientation Z', 'Orientation W', 'Accelerometer X', 'Accelerometer Y', 'Accelerometer Z', 'Gyroscope X', 'Gyroscope Y','Gyroscope Z'] \n",
    "        return df.assign(eating=False)\n",
    "    elif( data_for == \"ground_truth\"):\n",
    "        df = pd.read_csv(paths[3], sep=\",\", header=None)\n",
    "        df.columns = [\"start\",\"stop\", \"noise\"] \n",
    "        df.drop(['noise'],axis=1,inplace=True)\n",
    "        return df.applymap(lambda x: mul(x, 100/30))\n",
    "    else:\n",
    "        df = pd.read_csv(paths[2], header=None)\n",
    "        df.columns = [\"starting frame\", \"ending frame\"]\n",
    "        return df"
   ]
  },
  {
   "cell_type": "code",
   "execution_count": 5,
   "metadata": {},
   "outputs": [],
   "source": [
    "user = \"user09\"\n",
    "df_EMG = get_dataframe(user, data_for=\"EMG\")\n",
    "df_IMU = get_dataframe(user, data_for=\"IMU\")\n",
    "df_ground_truth = get_dataframe(user, data_for=\"ground_truth\")\n",
    "\n"
   ]
  },
  {
   "cell_type": "code",
   "execution_count": 7,
   "metadata": {},
   "outputs": [],
   "source": [
    "for index, row in df_ground_truth.iterrows():\n",
    "    eating_start = row[0] # note: maybe add one here. depends on if index at 0 or 1. I assumed 0\n",
    "    eating_stop = row[1]\n",
    "    df_EMG.loc[ eating_start:eating_stop , 'eating'] = True\n",
    "    \n",
    "\n",
    "df_eating = df_EMG[df_EMG['eating'] == True]\n",
    "df_not_eating = df_EMG[df_EMG['eating'] == False]"
   ]
  },
  {
   "cell_type": "code",
   "execution_count": null,
   "metadata": {},
   "outputs": [],
   "source": []
  },
  {
   "cell_type": "code",
   "execution_count": null,
   "metadata": {},
   "outputs": [],
   "source": []
  },
  {
   "cell_type": "code",
   "execution_count": null,
   "metadata": {},
   "outputs": [],
   "source": [
    "np.average(diff_array),np.average(diff_EMG),np.average(diff_IMU)"
   ]
  },
  {
   "cell_type": "code",
   "execution_count": null,
   "metadata": {},
   "outputs": [],
   "source": [
    "IMU_col = ['UNIX time stamp', 'Orientation X', 'Orientation Y', 'Orientation Z', 'Orientation W', 'Accelerometer X', 'Accelerometer Y', 'Accelerometer Z', 'Gyroscope X', 'Gyroscope Y','Gyroscope Z'] \n",
    "for col in IMU_col:\n",
    "    if col == IMU_col[0]:\n",
    "        continue\n",
    "    df_IMU.plot(x=IMU_col[0],y=col)"
   ]
  },
  {
   "cell_type": "code",
   "execution_count": null,
   "metadata": {},
   "outputs": [],
   "source": [
    "EMG_col = ['UNIX time stamp', 'EMG 1', 'EMG 2', 'EMG 3', 'EMG 4', 'EMG 5', 'EMG 6', 'EMG 7', 'EMG 8']\n",
    "for col in EMG_col:\n",
    "    if col == EMG_col[0]:\n",
    "        continue\n",
    "    df_EMG.plot(x=EMG_col[0],y=col)"
   ]
  },
  {
   "cell_type": "code",
   "execution_count": null,
   "metadata": {},
   "outputs": [],
   "source": [
    "diff_array = []\n",
    "diff_EMG = []\n",
    "diff_IMU = []\n",
    "for user in user_id:\n",
    "    last_row_EMG = get_dataframe(user, data_for=\"EMG\")[-1:].index[0]\n",
    "    last_row_IMU = get_dataframe(user, data_for=\"IMU\")[-1:].index[0]\n",
    "    diff_array.append(last_row_EMG / last_row_IMU)\n",
    "    last_frame = get_dataframe(data_for = \"other\")['ending frame'][0]\n",
    "    diff_EMG.append(np.abs(last_row_EMG - last_frame))\n",
    "    diff_IMU.append(np.abs(last_row_IMU - last_frame))"
   ]
  },
  {
   "cell_type": "code",
   "execution_count": null,
   "metadata": {},
   "outputs": [],
   "source": []
  }
 ],
 "metadata": {
  "kernelspec": {
   "display_name": "Python 3",
   "language": "python",
   "name": "python3"
  },
  "language_info": {
   "codemirror_mode": {
    "name": "ipython",
    "version": 3
   },
   "file_extension": ".py",
   "mimetype": "text/x-python",
   "name": "python",
   "nbconvert_exporter": "python",
   "pygments_lexer": "ipython3",
   "version": "3.7.4"
  }
 },
 "nbformat": 4,
 "nbformat_minor": 4
}
