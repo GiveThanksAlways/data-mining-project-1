{
 "cells": [
  {
   "cell_type": "code",
   "execution_count": 1,
   "metadata": {},
   "outputs": [],
   "source": [
    "import os\n",
    "import pandas as pd\n",
    "import numpy as np\n",
    "import matplotlib.pyplot as plt\n",
    "\n",
    "# groundTruth ignore the third column\n",
    "# the first number is the starting frame of an eating action, the 2nd number is the ending frame of an eating action\n",
    "\n",
    "# video data is 30 frames per second (need to convert frame numbers into sample numbers)\n",
    "# sensor sampling rate is 50 Hz \n",
    "\n",
    "# ... we can synchronize two dataset by setting the last frame time to the last UNIX time stamp in IMU or EMG file.\n",
    "\n",
    "# ok, so when one second goes by, the sensors took in 50 readings (50 Hz), and in that time, the video took in 30 frames\n",
    "# so we have to divide up the 50 data points (for each sensor) amoung the 30 frames taken in that one second\n",
    "# hence why they say multiply by 50 and divide by 30 for the frame.\n",
    "# if you just divide frame number by 30, then you get seconds. (30 frames = 1 second)"
   ]
  },
  {
   "cell_type": "code",
   "execution_count": 2,
   "metadata": {},
   "outputs": [],
   "source": [
    "groundTruth_Users = os.listdir(\"groundTruth\")\n",
    "MyoData_Users = os.listdir(\"MyoData\")\n",
    "groundTruth_Users.sort()\n",
    "MyoData_Users.sort()"
   ]
  },
  {
   "cell_type": "code",
   "execution_count": 3,
   "metadata": {},
   "outputs": [],
   "source": [
    "user_id = []\n",
    "for i in range(len(MyoData_Users)):\n",
    "    if MyoData_Users[i] == groundTruth_Users[i]:\n",
    "        user_id.append(MyoData_Users[i])"
   ]
  },
  {
   "cell_type": "code",
   "execution_count": 4,
   "metadata": {},
   "outputs": [],
   "source": [
    "def get_paths(user, fork_or_spoon= 'fork'):\n",
    "    parent_path = \"MyoData/\" + user + '/' + fork_or_spoon\n",
    "    dir_list = os.listdir(parent_path)\n",
    "    EMG_txt_path = parent_path + \"/\" + dir_list[0]\n",
    "    IMU_txt_path = parent_path + \"/\" + dir_list[1]\n",
    "    video_info_path = parent_path + \"/\" + dir_list[2]\n",
    "    # get ground truth\n",
    "    ground_truth_parent_path = \"groundTruth/\" + user + '/' + fork_or_spoon\n",
    "    ground_truth_dir_list = os.listdir(ground_truth_parent_path)\n",
    "    ground_truth_path = ground_truth_parent_path + \"/\" + ground_truth_dir_list[0]\n",
    "    return (EMG_txt_path, IMU_txt_path, video_info_path, ground_truth_path)\n",
    "\n",
    "def mul(x, y):\n",
    "    try:\n",
    "        return np.round(pd.to_numeric(x) * y)\n",
    "    except:\n",
    "        return x\n",
    "\n",
    "def get_dataframe(user = \"user09\", data_for=\"EMG\", fork_or_spoon=\"fork\"):\n",
    "    paths = get_paths(user, fork_or_spoon)\n",
    "    if data_for == \"EMG\":\n",
    "        df = pd.read_csv(paths[0], sep=\",\", header=None)\n",
    "        df.columns = ['UNIX time stamp', 'EMG 1', 'EMG 2', 'EMG 3', 'EMG 4', 'EMG 5', 'EMG 6', 'EMG 7', 'EMG 8']\n",
    "        return df.assign(eating=False)\n",
    "    elif( data_for == \"IMU\"):\n",
    "        df = pd.read_csv(paths[1], sep=\",\", header=None)\n",
    "        df.columns = ['UNIX time stamp', 'Orientation X', 'Orientation Y', 'Orientation Z', 'Orientation W', 'Accelerometer X', 'Accelerometer Y', 'Accelerometer Z', 'Gyroscope X', 'Gyroscope Y','Gyroscope Z'] \n",
    "        return df.assign(eating=False)\n",
    "    elif( data_for == \"ground_truth\"):\n",
    "        df = pd.read_csv(paths[3], sep=\",\", header=None)\n",
    "        df.columns = [\"start\",\"stop\", \"noise\"] \n",
    "        df.drop(['noise'],axis=1,inplace=True)\n",
    "        return df.applymap(lambda x: mul(x, 100/30))\n",
    "    else:\n",
    "        df = pd.read_csv(paths[2], header=None)\n",
    "        df.columns = [\"starting frame\", \"ending frame\"]\n",
    "        return df\n",
    "    \n",
    "def save_clean_data(df_ground_truth, df, name, user, fork_or_spoon=\"fork\"):\n",
    "    for index, row in df_ground_truth.iterrows():\n",
    "        eating_start = row[0] # note: maybe add one here. depends on if index at 0 or 1. I assumed 0\n",
    "        eating_stop = row[1]\n",
    "        df.loc[ eating_start:eating_stop , 'eating'] = True\n",
    "    \n",
    "\n",
    "    df_eating = df[df['eating'] == True]\n",
    "    df_not_eating = df[df['eating'] == False]\n",
    "    \n",
    "    directory = \"clean_data/\" + user + \"/\" + fork_or_spoon\n",
    "    if not os.path.exists(directory):\n",
    "        os.makedirs(directory)\n",
    "    \n",
    "    #df_eating.to_csv(sep=',', index=False, header=False)\n",
    "    df_eating.to_csv(path_or_buf=directory+\"/eating_\" + name + \".txt\", sep=',')\n",
    "    df_not_eating.to_csv(path_or_buf=directory+\"/not_eating_\" + name + \".txt\", sep=',')\n",
    "    "
   ]
  },
  {
   "cell_type": "code",
   "execution_count": 8,
   "metadata": {},
   "outputs": [],
   "source": [
    "# This code takes ~2 mins to run. SO only run when necessary\n",
    "def clean_data_for_each_user():\n",
    "    \n",
    "    for user in user_id:\n",
    "        #for fork_or_spoon in ['spoon','fork']\n",
    "        fork_or_spoon = 'spoon'\n",
    "        df_EMG = get_dataframe(user, data_for=\"EMG\", fork_or_spoon=fork_or_spoon)\n",
    "        df_IMU = get_dataframe(user, data_for=\"IMU\", fork_or_spoon=fork_or_spoon)\n",
    "        df_ground_truth = get_dataframe(user, data_for=\"ground_truth\", fork_or_spoon=fork_or_spoon)\n",
    "\n",
    "        save_clean_data(df_ground_truth, df_EMG, name=\"EMG\", user=user, fork_or_spoon=fork_or_spoon)\n",
    "        save_clean_data(df_ground_truth, df_IMU, name=\"IMU\", user=user, fork_or_spoon=fork_or_spoon)"
   ]
  },
  {
   "cell_type": "code",
   "execution_count": 14,
   "metadata": {},
   "outputs": [
    {
     "ename": "ParserError",
     "evalue": "Error tokenizing data. C error: Expected 3 fields in line 15, saw 4\n",
     "output_type": "error",
     "traceback": [
      "\u001b[0;31m---------------------------------------------------------------------------\u001b[0m",
      "\u001b[0;31mParserError\u001b[0m                               Traceback (most recent call last)",
      "\u001b[0;32m<ipython-input-14-aa42d3fa76ef>\u001b[0m in \u001b[0;36m<module>\u001b[0;34m\u001b[0m\n\u001b[1;32m      4\u001b[0m \u001b[0mdf_EMG\u001b[0m \u001b[0;34m=\u001b[0m \u001b[0mget_dataframe\u001b[0m\u001b[0;34m(\u001b[0m\u001b[0muser\u001b[0m\u001b[0;34m,\u001b[0m \u001b[0mdata_for\u001b[0m\u001b[0;34m=\u001b[0m\u001b[0;34m\"EMG\"\u001b[0m\u001b[0;34m,\u001b[0m \u001b[0mfork_or_spoon\u001b[0m\u001b[0;34m=\u001b[0m\u001b[0mfork_or_spoon\u001b[0m\u001b[0;34m)\u001b[0m\u001b[0;34m\u001b[0m\u001b[0;34m\u001b[0m\u001b[0m\n\u001b[1;32m      5\u001b[0m \u001b[0mdf_IMU\u001b[0m \u001b[0;34m=\u001b[0m \u001b[0mget_dataframe\u001b[0m\u001b[0;34m(\u001b[0m\u001b[0muser\u001b[0m\u001b[0;34m,\u001b[0m \u001b[0mdata_for\u001b[0m\u001b[0;34m=\u001b[0m\u001b[0;34m\"IMU\"\u001b[0m\u001b[0;34m,\u001b[0m \u001b[0mfork_or_spoon\u001b[0m\u001b[0;34m=\u001b[0m\u001b[0mfork_or_spoon\u001b[0m\u001b[0;34m)\u001b[0m\u001b[0;34m\u001b[0m\u001b[0;34m\u001b[0m\u001b[0m\n\u001b[0;32m----> 6\u001b[0;31m \u001b[0mdf_ground_truth\u001b[0m \u001b[0;34m=\u001b[0m \u001b[0mget_dataframe\u001b[0m\u001b[0;34m(\u001b[0m\u001b[0muser\u001b[0m\u001b[0;34m,\u001b[0m \u001b[0mdata_for\u001b[0m\u001b[0;34m=\u001b[0m\u001b[0;34m\"ground_truth\"\u001b[0m\u001b[0;34m,\u001b[0m \u001b[0mfork_or_spoon\u001b[0m\u001b[0;34m=\u001b[0m\u001b[0mfork_or_spoon\u001b[0m\u001b[0;34m)\u001b[0m\u001b[0;34m\u001b[0m\u001b[0;34m\u001b[0m\u001b[0m\n\u001b[0m\u001b[1;32m      7\u001b[0m \u001b[0;34m\u001b[0m\u001b[0m\n\u001b[1;32m      8\u001b[0m \u001b[0msave_clean_data\u001b[0m\u001b[0;34m(\u001b[0m\u001b[0mdf_ground_truth\u001b[0m\u001b[0;34m,\u001b[0m \u001b[0mdf_EMG\u001b[0m\u001b[0;34m,\u001b[0m \u001b[0mname\u001b[0m\u001b[0;34m=\u001b[0m\u001b[0;34m\"EMG\"\u001b[0m\u001b[0;34m,\u001b[0m \u001b[0muser\u001b[0m\u001b[0;34m=\u001b[0m\u001b[0muser\u001b[0m\u001b[0;34m,\u001b[0m \u001b[0mfork_or_spoon\u001b[0m\u001b[0;34m=\u001b[0m\u001b[0mfork_or_spoon\u001b[0m\u001b[0;34m)\u001b[0m\u001b[0;34m\u001b[0m\u001b[0;34m\u001b[0m\u001b[0m\n",
      "\u001b[0;32m<ipython-input-4-a7a9dc46aa61>\u001b[0m in \u001b[0;36mget_dataframe\u001b[0;34m(user, data_for, fork_or_spoon)\u001b[0m\n\u001b[1;32m     28\u001b[0m         \u001b[0;32mreturn\u001b[0m \u001b[0mdf\u001b[0m\u001b[0;34m.\u001b[0m\u001b[0massign\u001b[0m\u001b[0;34m(\u001b[0m\u001b[0meating\u001b[0m\u001b[0;34m=\u001b[0m\u001b[0;32mFalse\u001b[0m\u001b[0;34m)\u001b[0m\u001b[0;34m\u001b[0m\u001b[0;34m\u001b[0m\u001b[0m\n\u001b[1;32m     29\u001b[0m     \u001b[0;32melif\u001b[0m\u001b[0;34m(\u001b[0m \u001b[0mdata_for\u001b[0m \u001b[0;34m==\u001b[0m \u001b[0;34m\"ground_truth\"\u001b[0m\u001b[0;34m)\u001b[0m\u001b[0;34m:\u001b[0m\u001b[0;34m\u001b[0m\u001b[0;34m\u001b[0m\u001b[0m\n\u001b[0;32m---> 30\u001b[0;31m         \u001b[0mdf\u001b[0m \u001b[0;34m=\u001b[0m \u001b[0mpd\u001b[0m\u001b[0;34m.\u001b[0m\u001b[0mread_csv\u001b[0m\u001b[0;34m(\u001b[0m\u001b[0mpaths\u001b[0m\u001b[0;34m[\u001b[0m\u001b[0;36m3\u001b[0m\u001b[0;34m]\u001b[0m\u001b[0;34m,\u001b[0m \u001b[0msep\u001b[0m\u001b[0;34m=\u001b[0m\u001b[0;34m\",\"\u001b[0m\u001b[0;34m,\u001b[0m \u001b[0mheader\u001b[0m\u001b[0;34m=\u001b[0m\u001b[0;32mNone\u001b[0m\u001b[0;34m)\u001b[0m\u001b[0;34m\u001b[0m\u001b[0;34m\u001b[0m\u001b[0m\n\u001b[0m\u001b[1;32m     31\u001b[0m         \u001b[0mdf\u001b[0m\u001b[0;34m.\u001b[0m\u001b[0mcolumns\u001b[0m \u001b[0;34m=\u001b[0m \u001b[0;34m[\u001b[0m\u001b[0;34m\"start\"\u001b[0m\u001b[0;34m,\u001b[0m\u001b[0;34m\"stop\"\u001b[0m\u001b[0;34m,\u001b[0m \u001b[0;34m\"noise\"\u001b[0m\u001b[0;34m]\u001b[0m\u001b[0;34m\u001b[0m\u001b[0;34m\u001b[0m\u001b[0m\n\u001b[1;32m     32\u001b[0m         \u001b[0mdf\u001b[0m\u001b[0;34m.\u001b[0m\u001b[0mdrop\u001b[0m\u001b[0;34m(\u001b[0m\u001b[0;34m[\u001b[0m\u001b[0;34m'noise'\u001b[0m\u001b[0;34m]\u001b[0m\u001b[0;34m,\u001b[0m\u001b[0maxis\u001b[0m\u001b[0;34m=\u001b[0m\u001b[0;36m1\u001b[0m\u001b[0;34m,\u001b[0m\u001b[0minplace\u001b[0m\u001b[0;34m=\u001b[0m\u001b[0;32mTrue\u001b[0m\u001b[0;34m)\u001b[0m\u001b[0;34m\u001b[0m\u001b[0;34m\u001b[0m\u001b[0m\n",
      "\u001b[0;32m~/anaconda3/lib/python3.7/site-packages/pandas/io/parsers.py\u001b[0m in \u001b[0;36mparser_f\u001b[0;34m(filepath_or_buffer, sep, delimiter, header, names, index_col, usecols, squeeze, prefix, mangle_dupe_cols, dtype, engine, converters, true_values, false_values, skipinitialspace, skiprows, skipfooter, nrows, na_values, keep_default_na, na_filter, verbose, skip_blank_lines, parse_dates, infer_datetime_format, keep_date_col, date_parser, dayfirst, cache_dates, iterator, chunksize, compression, thousands, decimal, lineterminator, quotechar, quoting, doublequote, escapechar, comment, encoding, dialect, error_bad_lines, warn_bad_lines, delim_whitespace, low_memory, memory_map, float_precision)\u001b[0m\n\u001b[1;32m    683\u001b[0m         )\n\u001b[1;32m    684\u001b[0m \u001b[0;34m\u001b[0m\u001b[0m\n\u001b[0;32m--> 685\u001b[0;31m         \u001b[0;32mreturn\u001b[0m \u001b[0m_read\u001b[0m\u001b[0;34m(\u001b[0m\u001b[0mfilepath_or_buffer\u001b[0m\u001b[0;34m,\u001b[0m \u001b[0mkwds\u001b[0m\u001b[0;34m)\u001b[0m\u001b[0;34m\u001b[0m\u001b[0;34m\u001b[0m\u001b[0m\n\u001b[0m\u001b[1;32m    686\u001b[0m \u001b[0;34m\u001b[0m\u001b[0m\n\u001b[1;32m    687\u001b[0m     \u001b[0mparser_f\u001b[0m\u001b[0;34m.\u001b[0m\u001b[0m__name__\u001b[0m \u001b[0;34m=\u001b[0m \u001b[0mname\u001b[0m\u001b[0;34m\u001b[0m\u001b[0;34m\u001b[0m\u001b[0m\n",
      "\u001b[0;32m~/anaconda3/lib/python3.7/site-packages/pandas/io/parsers.py\u001b[0m in \u001b[0;36m_read\u001b[0;34m(filepath_or_buffer, kwds)\u001b[0m\n\u001b[1;32m    461\u001b[0m \u001b[0;34m\u001b[0m\u001b[0m\n\u001b[1;32m    462\u001b[0m     \u001b[0;32mtry\u001b[0m\u001b[0;34m:\u001b[0m\u001b[0;34m\u001b[0m\u001b[0;34m\u001b[0m\u001b[0m\n\u001b[0;32m--> 463\u001b[0;31m         \u001b[0mdata\u001b[0m \u001b[0;34m=\u001b[0m \u001b[0mparser\u001b[0m\u001b[0;34m.\u001b[0m\u001b[0mread\u001b[0m\u001b[0;34m(\u001b[0m\u001b[0mnrows\u001b[0m\u001b[0;34m)\u001b[0m\u001b[0;34m\u001b[0m\u001b[0;34m\u001b[0m\u001b[0m\n\u001b[0m\u001b[1;32m    464\u001b[0m     \u001b[0;32mfinally\u001b[0m\u001b[0;34m:\u001b[0m\u001b[0;34m\u001b[0m\u001b[0;34m\u001b[0m\u001b[0m\n\u001b[1;32m    465\u001b[0m         \u001b[0mparser\u001b[0m\u001b[0;34m.\u001b[0m\u001b[0mclose\u001b[0m\u001b[0;34m(\u001b[0m\u001b[0;34m)\u001b[0m\u001b[0;34m\u001b[0m\u001b[0;34m\u001b[0m\u001b[0m\n",
      "\u001b[0;32m~/anaconda3/lib/python3.7/site-packages/pandas/io/parsers.py\u001b[0m in \u001b[0;36mread\u001b[0;34m(self, nrows)\u001b[0m\n\u001b[1;32m   1152\u001b[0m     \u001b[0;32mdef\u001b[0m \u001b[0mread\u001b[0m\u001b[0;34m(\u001b[0m\u001b[0mself\u001b[0m\u001b[0;34m,\u001b[0m \u001b[0mnrows\u001b[0m\u001b[0;34m=\u001b[0m\u001b[0;32mNone\u001b[0m\u001b[0;34m)\u001b[0m\u001b[0;34m:\u001b[0m\u001b[0;34m\u001b[0m\u001b[0;34m\u001b[0m\u001b[0m\n\u001b[1;32m   1153\u001b[0m         \u001b[0mnrows\u001b[0m \u001b[0;34m=\u001b[0m \u001b[0m_validate_integer\u001b[0m\u001b[0;34m(\u001b[0m\u001b[0;34m\"nrows\"\u001b[0m\u001b[0;34m,\u001b[0m \u001b[0mnrows\u001b[0m\u001b[0;34m)\u001b[0m\u001b[0;34m\u001b[0m\u001b[0;34m\u001b[0m\u001b[0m\n\u001b[0;32m-> 1154\u001b[0;31m         \u001b[0mret\u001b[0m \u001b[0;34m=\u001b[0m \u001b[0mself\u001b[0m\u001b[0;34m.\u001b[0m\u001b[0m_engine\u001b[0m\u001b[0;34m.\u001b[0m\u001b[0mread\u001b[0m\u001b[0;34m(\u001b[0m\u001b[0mnrows\u001b[0m\u001b[0;34m)\u001b[0m\u001b[0;34m\u001b[0m\u001b[0;34m\u001b[0m\u001b[0m\n\u001b[0m\u001b[1;32m   1155\u001b[0m \u001b[0;34m\u001b[0m\u001b[0m\n\u001b[1;32m   1156\u001b[0m         \u001b[0;31m# May alter columns / col_dict\u001b[0m\u001b[0;34m\u001b[0m\u001b[0;34m\u001b[0m\u001b[0;34m\u001b[0m\u001b[0m\n",
      "\u001b[0;32m~/anaconda3/lib/python3.7/site-packages/pandas/io/parsers.py\u001b[0m in \u001b[0;36mread\u001b[0;34m(self, nrows)\u001b[0m\n\u001b[1;32m   2057\u001b[0m     \u001b[0;32mdef\u001b[0m \u001b[0mread\u001b[0m\u001b[0;34m(\u001b[0m\u001b[0mself\u001b[0m\u001b[0;34m,\u001b[0m \u001b[0mnrows\u001b[0m\u001b[0;34m=\u001b[0m\u001b[0;32mNone\u001b[0m\u001b[0;34m)\u001b[0m\u001b[0;34m:\u001b[0m\u001b[0;34m\u001b[0m\u001b[0;34m\u001b[0m\u001b[0m\n\u001b[1;32m   2058\u001b[0m         \u001b[0;32mtry\u001b[0m\u001b[0;34m:\u001b[0m\u001b[0;34m\u001b[0m\u001b[0;34m\u001b[0m\u001b[0m\n\u001b[0;32m-> 2059\u001b[0;31m             \u001b[0mdata\u001b[0m \u001b[0;34m=\u001b[0m \u001b[0mself\u001b[0m\u001b[0;34m.\u001b[0m\u001b[0m_reader\u001b[0m\u001b[0;34m.\u001b[0m\u001b[0mread\u001b[0m\u001b[0;34m(\u001b[0m\u001b[0mnrows\u001b[0m\u001b[0;34m)\u001b[0m\u001b[0;34m\u001b[0m\u001b[0;34m\u001b[0m\u001b[0m\n\u001b[0m\u001b[1;32m   2060\u001b[0m         \u001b[0;32mexcept\u001b[0m \u001b[0mStopIteration\u001b[0m\u001b[0;34m:\u001b[0m\u001b[0;34m\u001b[0m\u001b[0;34m\u001b[0m\u001b[0m\n\u001b[1;32m   2061\u001b[0m             \u001b[0;32mif\u001b[0m \u001b[0mself\u001b[0m\u001b[0;34m.\u001b[0m\u001b[0m_first_chunk\u001b[0m\u001b[0;34m:\u001b[0m\u001b[0;34m\u001b[0m\u001b[0;34m\u001b[0m\u001b[0m\n",
      "\u001b[0;32mpandas/_libs/parsers.pyx\u001b[0m in \u001b[0;36mpandas._libs.parsers.TextReader.read\u001b[0;34m()\u001b[0m\n",
      "\u001b[0;32mpandas/_libs/parsers.pyx\u001b[0m in \u001b[0;36mpandas._libs.parsers.TextReader._read_low_memory\u001b[0;34m()\u001b[0m\n",
      "\u001b[0;32mpandas/_libs/parsers.pyx\u001b[0m in \u001b[0;36mpandas._libs.parsers.TextReader._read_rows\u001b[0;34m()\u001b[0m\n",
      "\u001b[0;32mpandas/_libs/parsers.pyx\u001b[0m in \u001b[0;36mpandas._libs.parsers.TextReader._tokenize_rows\u001b[0;34m()\u001b[0m\n",
      "\u001b[0;32mpandas/_libs/parsers.pyx\u001b[0m in \u001b[0;36mpandas._libs.parsers.raise_parser_error\u001b[0;34m()\u001b[0m\n",
      "\u001b[0;31mParserError\u001b[0m: Error tokenizing data. C error: Expected 3 fields in line 15, saw 4\n"
     ]
    }
   ],
   "source": [
    "#clean_data_for_each_user()\n",
    "user = 'user27'\n",
    "fork_or_spoon = 'spoon'\n",
    "df_EMG = get_dataframe(user, data_for=\"EMG\", fork_or_spoon=fork_or_spoon)\n",
    "df_IMU = get_dataframe(user, data_for=\"IMU\", fork_or_spoon=fork_or_spoon)\n",
    "df_ground_truth = get_dataframe(user, data_for=\"ground_truth\", fork_or_spoon=fork_or_spoon)\n",
    "\n",
    "save_clean_data(df_ground_truth, df_EMG, name=\"EMG\", user=user, fork_or_spoon=fork_or_spoon)\n",
    "save_clean_data(df_ground_truth, df_IMU, name=\"IMU\", user=user, fork_or_spoon=fork_or_spoon)"
   ]
  },
  {
   "cell_type": "code",
   "execution_count": null,
   "metadata": {},
   "outputs": [],
   "source": [
    "# diff_array = []\n",
    "# diff_EMG = []\n",
    "# diff_IMU = []\n",
    "# for user in user_id:\n",
    "#     last_row_EMG = get_dataframe(user, data_for=\"EMG\")[-1:].index[0]\n",
    "#     last_row_IMU = get_dataframe(user, data_for=\"IMU\")[-1:].index[0]\n",
    "#     diff_array.append(last_row_EMG / last_row_IMU)\n",
    "#     last_frame = get_dataframe(data_for = \"other\")['ending frame'][0]\n",
    "#     diff_EMG.append(np.abs(last_row_EMG - last_frame))\n",
    "#     diff_IMU.append(np.abs(last_row_IMU - last_frame))"
   ]
  },
  {
   "cell_type": "code",
   "execution_count": null,
   "metadata": {},
   "outputs": [],
   "source": []
  }
 ],
 "metadata": {
  "kernelspec": {
   "display_name": "Python 3",
   "language": "python",
   "name": "python3"
  },
  "language_info": {
   "codemirror_mode": {
    "name": "ipython",
    "version": 3
   },
   "file_extension": ".py",
   "mimetype": "text/x-python",
   "name": "python",
   "nbconvert_exporter": "python",
   "pygments_lexer": "ipython3",
   "version": "3.7.4"
  }
 },
 "nbformat": 4,
 "nbformat_minor": 4
}
