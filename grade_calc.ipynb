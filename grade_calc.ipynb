{
 "cells": [
  {
   "cell_type": "code",
   "execution_count": 11,
   "metadata": {},
   "outputs": [
    {
     "data": {
      "text/plain": [
       "0.8590000000000001"
      ]
     },
     "execution_count": 11,
     "metadata": {},
     "output_type": "execute_result"
    }
   ],
   "source": [
    "midterm = (72/100) * .2\n",
    "final = (80/100) * .25\n",
    "project1 = (95/100) * .15\n",
    "project2 = (95/100) * .15\n",
    "quiz1 = (100/100) * .04\n",
    "quiz2 = (80/100) * .04\n",
    "quiz3 = (90/100) * .04\n",
    "quiz4 = (90/100) * .04\n",
    "quiz5 = (90/100) * .04\n",
    "discussions = .05\n",
    "\n",
    "midterm + final + project1 + project2 + quiz1 + quiz2 + quiz3 + quiz4 + quiz5 + discussions\n"
   ]
  },
  {
   "cell_type": "code",
   "execution_count": null,
   "metadata": {},
   "outputs": [],
   "source": []
  }
 ],
 "metadata": {
  "kernelspec": {
   "display_name": "Python 3",
   "language": "python",
   "name": "python3"
  },
  "language_info": {
   "codemirror_mode": {
    "name": "ipython",
    "version": 3
   },
   "file_extension": ".py",
   "mimetype": "text/x-python",
   "name": "python",
   "nbconvert_exporter": "python",
   "pygments_lexer": "ipython3",
   "version": "3.7.4"
  }
 },
 "nbformat": 4,
 "nbformat_minor": 4
}
