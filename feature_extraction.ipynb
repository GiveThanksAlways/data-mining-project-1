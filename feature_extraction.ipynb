{
 "cells": [
  {
   "cell_type": "code",
   "execution_count": 92,
   "metadata": {},
   "outputs": [],
   "source": [
    "import os\n",
    "import pandas as pd\n",
    "import numpy as np\n",
    "import matplotlib.pyplot as plt\n",
    "\n",
    "groundTruth_Users = os.listdir(\"groundTruth\")\n",
    "MyoData_Users = os.listdir(\"MyoData\")\n",
    "groundTruth_Users.sort()\n",
    "MyoData_Users.sort()\n",
    "\n",
    "user_id = []\n",
    "for i in range(len(MyoData_Users)):\n",
    "    if MyoData_Users[i] == groundTruth_Users[i]:\n",
    "        user_id.append(MyoData_Users[i])"
   ]
  },
  {
   "cell_type": "code",
   "execution_count": 97,
   "metadata": {},
   "outputs": [],
   "source": [
    "def get_paths(user, fork_or_spoon= 'fork'):\n",
    "    parent_path = \"clean_data/\" + user + '/' + fork_or_spoon\n",
    "    dir_list = os.listdir(parent_path)\n",
    "    EMG_eating_txt_path = parent_path + \"/\" + dir_list[0]\n",
    "    EMG_not_eating_txt_path = parent_path + \"/\" + dir_list[1]\n",
    "    IMU_eating_txt_path = parent_path + \"/\" + dir_list[2]\n",
    "    IMU_not_eating_txt_path = parent_path + \"/\" + dir_list[3]\n",
    "    master_EMG_path = parent_path + \"/\" + dir_list[4]\n",
    "    master_IMU_path = parent_path + \"/\" + dir_list[5]\n",
    "    \n",
    "    return (EMG_eating_txt_path, EMG_not_eating_txt_path, IMU_eating_txt_path, IMU_not_eating_txt_path, master_EMG_path, master_IMU_path)\n",
    "\n",
    "def get_dataframe(user = \"user09\", data_for=\"EMG\", fork_or_spoon=\"fork\", eating=True, master=False):\n",
    "    paths = get_paths(user, fork_or_spoon)\n",
    "    if data_for == \"EMG\":\n",
    "        if master:\n",
    "            return pd.read_csv(paths[4], sep=\",\", index_col=0)\n",
    "        elif eating:\n",
    "            return pd.read_csv(paths[0], sep=\",\", index_col=0)\n",
    "        else:\n",
    "            return pd.read_csv(paths[1], sep=\",\", index_col=0)\n",
    "\n",
    "    elif( data_for == \"IMU\"):\n",
    "        if master:\n",
    "            return pd.read_csv(paths[5], sep=\",\", index_col=0)\n",
    "        elif eating:\n",
    "            return pd.read_csv(paths[2], sep=\",\", index_col=0)\n",
    "        else:\n",
    "            return pd.read_csv(paths[3], sep=\",\", index_col=0)\n",
    "    "
   ]
  },
  {
   "cell_type": "code",
   "execution_count": null,
   "metadata": {},
   "outputs": [],
   "source": []
  },
  {
   "cell_type": "code",
   "execution_count": 98,
   "metadata": {},
   "outputs": [],
   "source": [
    "for user in user_id:\n",
    "    \n",
    "    try:\n",
    "        df = get_dataframe(user, data_for=\"EMG\", fork_or_spoon=\"fork\", eating=True, master=True)\n",
    "    except:\n",
    "        print(user)\n",
    "#df.reset_index(drop=True) \n",
    "#df\n"
   ]
  },
  {
   "cell_type": "code",
   "execution_count": 44,
   "metadata": {},
   "outputs": [],
   "source": [
    "# This code takes ~4 mins to run. SO only run when necessary\n",
    "\n",
    "#clean_data_for_each_user()"
   ]
  },
  {
   "cell_type": "code",
   "execution_count": null,
   "metadata": {},
   "outputs": [],
   "source": []
  },
  {
   "cell_type": "code",
   "execution_count": null,
   "metadata": {},
   "outputs": [],
   "source": []
  },
  {
   "cell_type": "code",
   "execution_count": null,
   "metadata": {},
   "outputs": [],
   "source": []
  },
  {
   "cell_type": "code",
   "execution_count": null,
   "metadata": {},
   "outputs": [],
   "source": []
  },
  {
   "cell_type": "code",
   "execution_count": null,
   "metadata": {},
   "outputs": [],
   "source": []
  },
  {
   "cell_type": "code",
   "execution_count": null,
   "metadata": {},
   "outputs": [],
   "source": []
  },
  {
   "cell_type": "code",
   "execution_count": null,
   "metadata": {},
   "outputs": [],
   "source": []
  },
  {
   "cell_type": "code",
   "execution_count": null,
   "metadata": {},
   "outputs": [],
   "source": []
  },
  {
   "cell_type": "code",
   "execution_count": null,
   "metadata": {},
   "outputs": [],
   "source": [
    "np.average(diff_array),np.average(diff_EMG),np.average(diff_IMU)"
   ]
  },
  {
   "cell_type": "code",
   "execution_count": null,
   "metadata": {},
   "outputs": [],
   "source": [
    "IMU_col = ['UNIX time stamp', 'Orientation X', 'Orientation Y', 'Orientation Z', 'Orientation W', 'Accelerometer X', 'Accelerometer Y', 'Accelerometer Z', 'Gyroscope X', 'Gyroscope Y','Gyroscope Z'] \n",
    "for col in IMU_col:\n",
    "    if col == IMU_col[0]:\n",
    "        continue\n",
    "    df_IMU.plot(x=IMU_col[0],y=col)"
   ]
  },
  {
   "cell_type": "code",
   "execution_count": null,
   "metadata": {},
   "outputs": [],
   "source": [
    "EMG_col = ['UNIX time stamp', 'EMG 1', 'EMG 2', 'EMG 3', 'EMG 4', 'EMG 5', 'EMG 6', 'EMG 7', 'EMG 8']\n",
    "for col in EMG_col:\n",
    "    if col == EMG_col[0]:\n",
    "        continue\n",
    "    df_EMG.plot(x=EMG_col[0],y=col)"
   ]
  }
 ],
 "metadata": {
  "kernelspec": {
   "display_name": "Python 3",
   "language": "python",
   "name": "python3"
  },
  "language_info": {
   "codemirror_mode": {
    "name": "ipython",
    "version": 3
   },
   "file_extension": ".py",
   "mimetype": "text/x-python",
   "name": "python",
   "nbconvert_exporter": "python",
   "pygments_lexer": "ipython3",
   "version": "3.7.4"
  }
 },
 "nbformat": 4,
 "nbformat_minor": 4
}
