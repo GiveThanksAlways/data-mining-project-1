{
 "cells": [
  {
   "cell_type": "code",
   "execution_count": 3,
   "metadata": {},
   "outputs": [],
   "source": [
    "import os\n",
    "import pandas as pd\n",
    "import numpy as np\n",
    "import matplotlib.pyplot as plt"
   ]
  },
  {
   "cell_type": "code",
   "execution_count": 4,
   "metadata": {},
   "outputs": [],
   "source": [
    "def get_clean_paths(user, fork_or_spoon= 'fork'):\n",
    "    parent_path = \"clean_data/\" + user + '/' + fork_or_spoon\n",
    "    #dir_list = os.listdir(parent_path)\n",
    "    EMG_eating_txt_path = parent_path + \"/\" + \"eating_EMG.txt\"\n",
    "    EMG_not_eating_txt_path = parent_path + \"/\" + \"not_eating_EMG.txt\"\n",
    "    IMU_eating_txt_path = parent_path + \"/\" + \"eating_IMU.txt\"\n",
    "    IMU_not_eating_txt_path = parent_path + \"/\" + \"not_eating_IMU.txt\"\n",
    "    master_EMG_path = parent_path + \"/\" + \"master_dfEMG.txt\"\n",
    "    master_IMU_path = parent_path + \"/\" + \"master_dfIMU.txt\"\n",
    "    return (master_EMG_path, EMG_eating_txt_path, EMG_not_eating_txt_path, master_IMU_path, IMU_eating_txt_path, IMU_not_eating_txt_path)\n",
    "\n",
    "def get_clean_df(user = \"user10\", data_for=\"EMG\", fork_or_spoon=\"fork\", eating=True, master=False):\n",
    "    paths = get_clean_paths(user, fork_or_spoon)\n",
    "    if data_for == \"EMG\":\n",
    "        if master:\n",
    "            return pd.read_csv(paths[0], sep=\",\", index_col=0)\n",
    "        elif eating:\n",
    "            return pd.read_csv(paths[1], sep=\",\", index_col=0)\n",
    "        else:\n",
    "            return pd.read_csv(paths[2], sep=\",\", index_col=0)\n",
    "\n",
    "    elif( data_for == \"IMU\"):\n",
    "        if master:\n",
    "            return pd.read_csv(paths[3], sep=\",\", index_col=0)\n",
    "        elif eating:\n",
    "            return pd.read_csv(paths[4], sep=\",\", index_col=0)\n",
    "        else:\n",
    "            return pd.read_csv(paths[5], sep=\",\", index_col=0)\n",
    "    "
   ]
  },
  {
   "cell_type": "code",
   "execution_count": 102,
   "metadata": {},
   "outputs": [],
   "source": [
    "df1 = get_clean_df(eating=True)\n",
    "df2 = get_clean_df(eating=False)\n",
    "df1_IMU = get_clean_df(data_for=\"IMU\",eating=True)\n",
    "df2_IMU = get_clean_df(data_for=\"IMU\",eating=False)\n",
    "df_master_EMG = get_clean_df(master=True)\n",
    "df_master_IMU = get_clean_df(data_for=\"IMU\",master=True)"
   ]
  },
  {
   "cell_type": "markdown",
   "metadata": {},
   "source": [
    "# RMS"
   ]
  },
  {
   "cell_type": "code",
   "execution_count": 344,
   "metadata": {},
   "outputs": [],
   "source": [
    "# RMS_feature_extraction(df1,df2)\n",
    "# RMS_feature_extraction(df1_IMU,df2_IMU)\n",
    "def RMS_feature_extraction(df1,df2,row_wise=True,user=\"user10\"):\n",
    "    if row_wise:\n",
    "        axis = 0\n",
    "        n = (df1.iloc[:,1:-1]).shape[0]\n",
    "    else:\n",
    "        axis = 1 \n",
    "        n = (df1.iloc[:,1:-1]).shape[1]\n",
    "    try:\n",
    "        ax = (((df1.iloc[:,1:-1]**2).sum(axis))/n).pow(1/2).plot(label='eating',legend=True)\n",
    "        ((df2.iloc[:,1:-1]**2).sum(axis)/n).pow(1/2).plot(ax=ax,label='not eating',legend=True, title=user)\n",
    "        plt.xticks(rotation=70)\n",
    "        plt.show()\n",
    "    except:\n",
    "        print(\"error in RMS_feature_extraction()\")"
   ]
  },
  {
   "cell_type": "markdown",
   "metadata": {},
   "source": [
    "# avg"
   ]
  },
  {
   "cell_type": "code",
   "execution_count": 34,
   "metadata": {},
   "outputs": [],
   "source": [
    "# AVG_feature_extraction(df1,df2)\n",
    "# AVG_feature_extraction(df1_IMU,df2_IMU)\n",
    "def AVG_feature_extraction(df1,df2,row_wise=True,user=\"user10\"):\n",
    "    if row_wise:\n",
    "        axis = 0\n",
    "    else:\n",
    "        axis = 1 \n",
    "    try:\n",
    "        ax = ((df1.iloc[:,1:-1]).abs().mean(axis)).plot(label='eating',legend=True)\n",
    "        ((df2.iloc[:,1:-1]).abs().mean(axis)).plot(ax=ax,label='not eating',legend=True, title=user)\n",
    "        plt.xticks(rotation=70)\n",
    "        plt.show()\n",
    "    except:\n",
    "        print(\"error in AVG_feature_extraction()\")"
   ]
  },
  {
   "cell_type": "markdown",
   "metadata": {},
   "source": [
    "# min"
   ]
  },
  {
   "cell_type": "code",
   "execution_count": 345,
   "metadata": {},
   "outputs": [],
   "source": [
    "# MIN_feature_extraction(df1,df2)\n",
    "def MIN_feature_extraction(df1,df2,row_wise=True,user=\"user10\"):\n",
    "    if row_wise:\n",
    "        axis = 0\n",
    "    else:\n",
    "        axis = 1 \n",
    "    try:\n",
    "        ax = ((df1.iloc[:,1:-1]).min(axis)).plot(label='eating',legend=True)\n",
    "        ((df2.iloc[:,1:-1]).min(axis)).plot(ax=ax,label='not eating',legend=True, title=user)\n",
    "        plt.xticks(rotation=70)\n",
    "        plt.show()\n",
    "    except:\n",
    "        print(\"error in MIN_feature_extraction()\")"
   ]
  },
  {
   "cell_type": "markdown",
   "metadata": {},
   "source": [
    "# max"
   ]
  },
  {
   "cell_type": "code",
   "execution_count": 47,
   "metadata": {},
   "outputs": [],
   "source": [
    "MAX_feature_extraction(df1,df2)\n",
    "MAX_feature_extraction(df1_IMU,df2_IMU)\n",
    "def MAX_feature_extraction(df1,df2,row_wise=True,user=\"user10\"):\n",
    "    if row_wise:\n",
    "        axis = 0\n",
    "    else:\n",
    "        axis = 1 \n",
    "    try:\n",
    "        ax = ((df1.iloc[:,1:-1]).abs().max(axis)).plot(label='eating',legend=True)\n",
    "        ((df2.iloc[:,1:-1]).abs().max(axis)).plot(ax=ax,label='not eating',legend=True, title=user)\n",
    "        plt.xticks(rotation=70)\n",
    "        plt.show()\n",
    "    except:\n",
    "        print(\"error in AVG_feature_extraction()\")"
   ]
  },
  {
   "cell_type": "markdown",
   "metadata": {},
   "source": [
    "# std"
   ]
  },
  {
   "cell_type": "code",
   "execution_count": 346,
   "metadata": {},
   "outputs": [],
   "source": [
    "# STD_feature_extraction(df1,df2)\n",
    "# STD_feature_extraction(df1_IMU,df2_IMU)\n",
    "def STD_feature_extraction(df1,df2,row_wise=True,user=\"user10\"):\n",
    "    if row_wise:\n",
    "        axis = 0\n",
    "    else:\n",
    "        axis = 1 \n",
    "    try:\n",
    "        ax = ((df1.iloc[:,1:-1]).std(axis)).plot(label='eating',legend=True)\n",
    "        ((df2.iloc[:,1:-1]).std(axis)).plot(ax=ax,label='not eating',legend=True, title=user)\n",
    "        plt.xticks(rotation=70)\n",
    "        plt.show()\n",
    "    except:\n",
    "        print(\"error in AVG_feature_extraction()\")"
   ]
  },
  {
   "cell_type": "markdown",
   "metadata": {},
   "source": [
    "# Make the feature matrix"
   ]
  },
  {
   "cell_type": "code",
   "execution_count": 418,
   "metadata": {},
   "outputs": [],
   "source": [
    "# total_samples = 2*df1.shape[0]\n",
    "# feature_df = pd.DataFrame() \n",
    "feature_df['min'] = ((data_df.iloc[:,1:-1]).abs().min(1))\n",
    "feature_df['max'] = ((data_df.iloc[:,1:-1]).abs().max(1))\n",
    "feature_df['STD'] = ((data_df.iloc[:,1:-1]).std(1))\n",
    "feature_df['AVG'] = (data_df.iloc[:,1:-1]).abs().mean(1)\n",
    "feature_df['RMS'] = (((data_df.iloc[:,1:-1]**2).sum(1))/8).pow(1/2)\n",
    "def get_data_df(df1,df2):\n",
    "    return df1.append(df2, ignore_index=True)\n",
    "\n",
    "def get_feature_df(df1, data_df):\n",
    "    total_samples = 2*df1.shape[0]\n",
    "    feature_df = pd.DataFrame() \n",
    "    feature_df['min'] = ((data_df.iloc[:,1:-1]).abs().min(1))\n",
    "    feature_df['max'] = ((data_df.iloc[:,1:-1]).abs().max(1))\n",
    "    feature_df['STD'] = ((data_df.iloc[:,1:-1]).std(1))\n",
    "    feature_df['AVG'] = (data_df.iloc[:,1:-1]).abs().mean(1)\n",
    "    feature_df['RMS'] = (((data_df.iloc[:,1:-1]**2).sum(1))/8).pow(1/2)\n",
    "    return feature_df"
   ]
  },
  {
   "cell_type": "markdown",
   "metadata": {},
   "source": [
    "# PCA"
   ]
  },
  {
   "cell_type": "code",
   "execution_count": 419,
   "metadata": {},
   "outputs": [],
   "source": [
    "from sklearn.decomposition import PCA\n",
    "from sklearn.preprocessing import StandardScaler"
   ]
  },
  {
   "cell_type": "code",
   "execution_count": 422,
   "metadata": {},
   "outputs": [],
   "source": [
    "pca = PCA()\n",
    "pca.fit(feature_df)\n",
    "pca.explained_variance_ratio_\n",
    "pca.explained_variance_\n",
    "eigenvalues = pca.explained_variance_\n",
    "eigenvectors = pca.components_\n",
    "# feature_df.dot(eigenvectors[0])\n",
    "# plt.plot(eigenvectors[0])\n",
    "# plt.plot(eigenvectors[1])\n",
    "# plt.plot(eigenvectors[2])\n",
    "# plt.plot(eigenvectors[3])\n",
    "# plt.show()\n",
    "# feature_df.dot(eigenvectors[0])\n",
    "#pca_2 = PCA()\n",
    "#principalComponents = pca_2.fit_transform(feature_df_std)\n",
    "#pd.DataFrame(data=principalComponents, columns = ['PC 1', 'PC 2', 'PC 3', 'PC 4', 'PC 5'])"
   ]
  },
  {
   "cell_type": "code",
   "execution_count": 421,
   "metadata": {},
   "outputs": [],
   "source": [
    "data_df = get_data_df(df1,df2)\n",
    "feature_df = get_feature_df(df1, data_df)\n",
    "\n",
    "X = feature_df\n",
    "X_std = StandardScaler().fit_transform(feature_df)\n"
   ]
  },
  {
   "cell_type": "code",
   "execution_count": 423,
   "metadata": {},
   "outputs": [],
   "source": [
    "mean_vec = np.mean(X_std, axis=0)\n",
    "cov_mat = (X_std - mean_vec).T.dot((X_std - mean_vec)) / (X_std.shape[0]-1)\n",
    "# print('Covariance matrix \\n%s' %cov_mat)\n",
    "# print('NumPy covariance matrix: \\n%s' %np.cov(X_std.T))"
   ]
  },
  {
   "cell_type": "code",
   "execution_count": 424,
   "metadata": {},
   "outputs": [],
   "source": [
    "cov_mat = np.cov(X_std.T)\n",
    "\n",
    "eig_vals, eig_vecs = np.linalg.eig(cov_mat)\n",
    "\n",
    "# print('Eigenvectors \\n%s' %eig_vecs)\n",
    "# print('\\nEigenvalues \\n%s' %eig_vals)"
   ]
  },
  {
   "cell_type": "code",
   "execution_count": 425,
   "metadata": {},
   "outputs": [],
   "source": [
    "cor_mat1 = np.corrcoef(X_std.T)\n",
    "\n",
    "eig_vals, eig_vecs = np.linalg.eig(cor_mat1)\n",
    "\n",
    "# print('Eigenvectors \\n%s' %eig_vecs)\n",
    "# print('\\nEigenvalues \\n%s' %eig_vals)"
   ]
  },
  {
   "cell_type": "code",
   "execution_count": 426,
   "metadata": {},
   "outputs": [],
   "source": [
    "cor_mat2 = np.corrcoef(X.T)\n",
    "\n",
    "eig_vals, eig_vecs = np.linalg.eig(cor_mat2)\n",
    "\n",
    "# print('Eigenvectors \\n%s' %eig_vecs)\n",
    "# print('\\nEigenvalues \\n%s' %eig_vals)"
   ]
  },
  {
   "cell_type": "code",
   "execution_count": 427,
   "metadata": {},
   "outputs": [
    {
     "name": "stdout",
     "output_type": "stream",
     "text": [
      "Eigenvalues in descending order:\n",
      "4.042198254978751\n",
      "0.795705094582244\n",
      "0.09975570154920377\n",
      "0.05973748649022106\n",
      "0.0026034623995844705\n"
     ]
    }
   ],
   "source": [
    "# Make a list of (eigenvalue, eigenvector) tuples\n",
    "eig_pairs = [(np.abs(eig_vals[i]), eig_vecs[:,i]) for i in range(len(eig_vals))]\n",
    "\n",
    "# Sort the (eigenvalue, eigenvector) tuples from high to low\n",
    "eig_pairs.sort(key=lambda x: x[0], reverse=True)\n",
    "\n",
    "# Visually confirm that the list is correctly sorted by decreasing eigenvalues\n",
    "print('Eigenvalues in descending order:')\n",
    "for i in eig_pairs:\n",
    "    print(i[0])"
   ]
  },
  {
   "cell_type": "code",
   "execution_count": 428,
   "metadata": {},
   "outputs": [],
   "source": [
    "tot = sum(eig_vals)\n",
    "var_exp = [(i / tot)*100 for i in sorted(eig_vals, reverse=True)]\n",
    "cum_var_exp = np.cumsum(var_exp)"
   ]
  },
  {
   "cell_type": "code",
   "execution_count": 429,
   "metadata": {},
   "outputs": [
    {
     "data": {
      "image/png": "[encoded data removed]",
      "text/plain": [
       "<Figure size 432x288 with 1 Axes>"
      ]
     },
     "metadata": {},
     "output_type": "display_data"
    }
   ],
   "source": [
    "with plt.style.context('seaborn-whitegrid'):\n",
    "    plt.figure(figsize=(6, 4))\n",
    "\n",
    "    plt.bar(range(5), var_exp, alpha=0.5, align='center',label='individual explained variance')\n",
    "    plt.step(range(5), cum_var_exp, where='mid',label='cumulative explained variance')\n",
    "    plt.ylabel('Explained variance ratio')\n",
    "    plt.xlabel('Principal components')\n",
    "    plt.legend(loc='best')\n",
    "    plt.tight_layout()"
   ]
  },
  {
   "cell_type": "code",
   "execution_count": 430,
   "metadata": {},
   "outputs": [
    {
     "name": "stdout",
     "output_type": "stream",
     "text": [
      "Matrix W:\n",
      " [[-0.27848869 -0.92430696]\n",
      " [-0.47449829  0.24388155]\n",
      " [-0.47116743  0.26088106]\n",
      " [-0.48224961 -0.07516388]\n",
      " [-0.49267838  0.1116687 ]]\n"
     ]
    }
   ],
   "source": [
    "matrix_w = np.hstack((eig_pairs[0][1].reshape(5,1),\n",
    "                      eig_pairs[1][1].reshape(5,1)))\n",
    "\n",
    "print('Matrix W:\\n', matrix_w)"
   ]
  },
  {
   "cell_type": "code",
   "execution_count": 431,
   "metadata": {},
   "outputs": [],
   "source": [
    "y = data_df.iloc[:,-1]\n",
    "#y == False"
   ]
  },
  {
   "cell_type": "code",
   "execution_count": 432,
   "metadata": {},
   "outputs": [
    {
     "data": {
      "image/png": "[encoded data removed]",
      "text/plain": [
       "<Figure size 432x288 with 1 Axes>"
      ]
     },
     "metadata": {},
     "output_type": "display_data"
    }
   ],
   "source": [
    "Y = X_std.dot(matrix_w)\n",
    "with plt.style.context('seaborn-whitegrid'):\n",
    "    plt.figure(figsize=(6, 4))\n",
    "    for lab, color in zip((True, False),\n",
    "                        ('green', 'red')):\n",
    "        \n",
    "        plt.scatter(Y[y==lab, 0],\n",
    "                    Y[y==lab, 1],\n",
    "                    label=lab,\n",
    "                    c=color,\n",
    "                    s=10)\n",
    "                   \n",
    "    plt.xlabel('Principal Component 1')\n",
    "    plt.ylabel('Principal Component 2')\n",
    "    plt.legend(loc='lower center')\n",
    "    plt.tight_layout()\n",
    "    plt.show()"
   ]
  },
  {
   "cell_type": "code",
   "execution_count": 443,
   "metadata": {},
   "outputs": [
    {
     "data": {
      "image/png": "[encoded data removed]",
      "text/plain": [
       "<Figure size 432x288 with 1 Axes>"
      ]
     },
     "metadata": {},
     "output_type": "display_data"
    }
   ],
   "source": [
    "from sklearn.decomposition import PCA as sklearnPCA\n",
    "sklearn_pca = sklearnPCA(n_components=2)\n",
    "Y_sklearn = sklearn_pca.fit_transform(X_std)\n",
    "\n",
    "with plt.style.context('seaborn-whitegrid'):\n",
    "    plt.figure(figsize=(6, 4))\n",
    "    for lab, col in zip((True,True),\n",
    "                        ('green','green')):\n",
    "        plt.scatter(Y_sklearn[y==lab, 0],\n",
    "                    Y_sklearn[y==lab, 1],\n",
    "                    label=lab,\n",
    "                    c=col,\n",
    "                    s=10)\n",
    "    plt.xlabel('Principal Component 1')\n",
    "    plt.ylabel('Principal Component 2')\n",
    "    plt.legend(loc='lower center')\n",
    "    #plt.tight_layout()\n",
    "    #plt.show()\n",
    "\n",
    "    #plt.figure(figsize=(6, 4))\n",
    "\n",
    "    plt.scatter(Y_sklearn[y==False, 0],\n",
    "                Y_sklearn[y==False, 1],\n",
    "                label=False,\n",
    "                c='red',\n",
    "                s=10)\n",
    "    #plt.xlabel('Principal Component 1')\n",
    "    #plt.ylabel('Principal Component 2')\n",
    "    #plt.legend(loc='lower center')\n",
    "    #plt.tight_layout()\n",
    "    plt.show()"
   ]
  },
  {
   "cell_type": "code",
   "execution_count": null,
   "metadata": {},
   "outputs": [],
   "source": []
  },
  {
   "cell_type": "code",
   "execution_count": null,
   "metadata": {},
   "outputs": [],
   "source": []
  },
  {
   "cell_type": "code",
   "execution_count": null,
   "metadata": {},
   "outputs": [],
   "source": []
  },
  {
   "cell_type": "code",
   "execution_count": null,
   "metadata": {},
   "outputs": [],
   "source": []
  }
 ],
 "metadata": {
  "kernelspec": {
   "display_name": "Python 3",
   "language": "python",
   "name": "python3"
  },
  "language_info": {
   "codemirror_mode": {
    "name": "ipython",
    "version": 3
   },
   "file_extension": ".py",
   "mimetype": "text/x-python",
   "name": "python",
   "nbconvert_exporter": "python",
   "pygments_lexer": "ipython3",
   "version": "3.7.4"
  }
 },
 "nbformat": 4,
 "nbformat_minor": 4
}
