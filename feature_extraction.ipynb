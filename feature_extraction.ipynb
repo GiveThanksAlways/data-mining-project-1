{
 "cells": [
  {
   "cell_type": "code",
   "execution_count": 209,
   "metadata": {},
   "outputs": [],
   "source": [
    "import os\n",
    "import pandas as pd\n",
    "import numpy as np\n",
    "import matplotlib.pyplot as plt\n",
    "\n",
    "groundTruth_Users = os.listdir(\"groundTruth\")\n",
    "MyoData_Users = os.listdir(\"MyoData\")\n",
    "\n",
    "user_id = []\n",
    "for i in range(len(MyoData_Users)):\n",
    "    if MyoData_Users[i] in groundTruth_Users:\n",
    "        user_id.append(MyoData_Users[i])"
   ]
  },
  {
   "cell_type": "code",
   "execution_count": 109,
   "metadata": {},
   "outputs": [],
   "source": [
    "def get_clean_paths(user, fork_or_spoon= 'fork'):\n",
    "    parent_path = \"clean_data/\" + user + '/' + fork_or_spoon\n",
    "    #dir_list = os.listdir(parent_path)\n",
    "    EMG_eating_txt_path = parent_path + \"/\" + \"eating_EMG.txt\"\n",
    "    EMG_not_eating_txt_path = parent_path + \"/\" + \"not_eating_EMG.txt\"\n",
    "    IMU_eating_txt_path = parent_path + \"/\" + \"eating_IMU.txt\"\n",
    "    IMU_not_eating_txt_path = parent_path + \"/\" + \"not_eating_IMU.txt\"\n",
    "    master_EMG_path = parent_path + \"/\" + \"master_dfEMG.txt\"\n",
    "    master_IMU_path = parent_path + \"/\" + \"master_dfIMU.txt\"\n",
    "    return (master_EMG_path, EMG_eating_txt_path, EMG_not_eating_txt_path, master_IMU_path, IMU_eating_txt_path, IMU_not_eating_txt_path)\n",
    "\n",
    "def get_clean_df(user = \"user10\", data_for=\"EMG\", fork_or_spoon=\"fork\", eating=True, master=False):\n",
    "    paths = get_clean_paths(user, fork_or_spoon)\n",
    "    if data_for == \"EMG\":\n",
    "        if master:\n",
    "            return pd.read_csv(paths[0], sep=\",\", index_col=0)\n",
    "        elif eating:\n",
    "            return pd.read_csv(paths[1], sep=\",\", index_col=0)\n",
    "        else:\n",
    "            return pd.read_csv(paths[2], sep=\",\", index_col=0)\n",
    "\n",
    "    elif( data_for == \"IMU\"):\n",
    "        if master:\n",
    "            return pd.read_csv(paths[3], sep=\",\", index_col=0)\n",
    "        elif eating:\n",
    "            return pd.read_csv(paths[4], sep=\",\", index_col=0)\n",
    "        else:\n",
    "            return pd.read_csv(paths[5], sep=\",\", index_col=0)\n",
    "    "
   ]
  },
  {
   "cell_type": "markdown",
   "metadata": {},
   "source": [
    "# RMS"
   ]
  },
  {
   "cell_type": "code",
   "execution_count": 110,
   "metadata": {},
   "outputs": [],
   "source": [
    "# RMS_feature_extraction(df1,df2)\n",
    "# RMS_feature_extraction(df1_IMU,df2_IMU)\n",
    "def RMS_feature_extraction(df1,df2,col_wise=True,user=\"user10\", get_feature_data=False):\n",
    "    if col_wise:\n",
    "        axis = 0\n",
    "        n = (df1.iloc[:,1:-1]).shape[0]\n",
    "    else:\n",
    "        axis = 1 \n",
    "        n = (df1.iloc[:,1:-1]).shape[1]\n",
    "    if get_feature_data:\n",
    "        eating_feature_data = ((((df1.iloc[:,1:-1]**2).sum(axis))/n).pow(1/2))\n",
    "        non_eating_feature_data = (((df2.iloc[:,1:-1]**2).sum(axis)/n).pow(1/2))\n",
    "        return ( (pd.DataFrame(eating_feature_data)).T, (pd.DataFrame(non_eating_feature_data)).T )\n",
    "    \n",
    "    try:\n",
    "        ax = ((((df1.iloc[:,1:-1]**2).sum(axis))/n).pow(1/2)).plot(label='eating',legend=True)\n",
    "        ((df2.iloc[:,1:-1]**2).sum(axis)/n).pow(1/2).plot(ax=ax,label='not eating',legend=True, title=user)\n",
    "        plt.xticks(rotation=70)\n",
    "        plt.show()\n",
    "    except:\n",
    "        print(\"error in RMS_feature_extraction()\")"
   ]
  },
  {
   "cell_type": "markdown",
   "metadata": {},
   "source": [
    "# avg"
   ]
  },
  {
   "cell_type": "code",
   "execution_count": 111,
   "metadata": {},
   "outputs": [],
   "source": [
    "# AVG_feature_extraction(df1,df2)\n",
    "# AVG_feature_extraction(df1_IMU,df2_IMU)\n",
    "def AVG_feature_extraction(df1,df2,col_wise=True,user=\"user10\", get_feature_data=False):\n",
    "    if col_wise:\n",
    "        axis = 0\n",
    "    else:\n",
    "        axis = 1 \n",
    "    if get_feature_data:\n",
    "        eating_feature_data = ((df1.iloc[:,1:-1]).abs().mean(axis))\n",
    "        non_eating_feature_data = ((df2.iloc[:,1:-1]).abs().mean(axis))\n",
    "        return ( (pd.DataFrame(eating_feature_data)).T, (pd.DataFrame(non_eating_feature_data)).T )\n",
    "    \n",
    "    try:\n",
    "        ax = ((df1.iloc[:,1:-1]).abs().mean(axis)).plot(label='eating',legend=True)\n",
    "        ((df2.iloc[:,1:-1]).abs().mean(axis)).plot(ax=ax,label='not eating',legend=True, title=user)\n",
    "        plt.xticks(rotation=70)\n",
    "        plt.show()\n",
    "    except:\n",
    "        print(\"error in AVG_feature_extraction()\")"
   ]
  },
  {
   "cell_type": "markdown",
   "metadata": {},
   "source": [
    "# min"
   ]
  },
  {
   "cell_type": "code",
   "execution_count": 112,
   "metadata": {},
   "outputs": [],
   "source": [
    "# MIN_feature_extraction(df1,df2)\n",
    "def MIN_feature_extraction(df1,df2,col_wise=True,user=\"user10\", get_feature_data=False):\n",
    "    if col_wise:\n",
    "        axis = 0\n",
    "    else:\n",
    "        axis = 1 \n",
    "    if get_feature_data:\n",
    "        eating_feature_data = ((df1.iloc[:,1:-1]).min(axis))\n",
    "        non_eating_feature_data = ((df2.iloc[:,1:-1]).min(axis))\n",
    "        return ( (pd.DataFrame(eating_feature_data)).T, (pd.DataFrame(non_eating_feature_data)).T )\n",
    "    \n",
    "    try:\n",
    "        ax = ((df1.iloc[:,1:-1]).min(axis)).plot(label='eating',legend=True)\n",
    "        ((df2.iloc[:,1:-1]).min(axis)).plot(ax=ax,label='not eating',legend=True, title=user)\n",
    "        plt.xticks(rotation=70)\n",
    "        plt.show()\n",
    "    except:\n",
    "        print(\"error in MIN_feature_extraction()\")"
   ]
  },
  {
   "cell_type": "markdown",
   "metadata": {},
   "source": [
    "# max"
   ]
  },
  {
   "cell_type": "code",
   "execution_count": 113,
   "metadata": {},
   "outputs": [],
   "source": [
    "# MAX_feature_extraction(df1,df2)\n",
    "# MAX_feature_extraction(df1_IMU,df2_IMU)\n",
    "def MAX_feature_extraction(df1,df2,col_wise=True,user=\"user10\", get_feature_data=False):\n",
    "    if col_wise:\n",
    "        axis = 0\n",
    "    else:\n",
    "        axis = 1 \n",
    "        \n",
    "    if get_feature_data:\n",
    "        eating_feature_data = ((df1.iloc[:,1:-1]).abs().max(axis))\n",
    "        non_eating_feature_data = ((df2.iloc[:,1:-1]).abs().max(axis))\n",
    "        return ( (pd.DataFrame(eating_feature_data)).T, (pd.DataFrame(non_eating_feature_data)).T )\n",
    "    \n",
    "    try:\n",
    "        ax = ((df1.iloc[:,1:-1]).abs().max(axis)).plot(label='eating',legend=True)\n",
    "        ((df2.iloc[:,1:-1]).abs().max(axis)).plot(ax=ax,label='not eating',legend=True, title=user)\n",
    "        plt.xticks(rotation=70)\n",
    "        plt.show()\n",
    "    except:\n",
    "        print(\"error in AVG_feature_extraction()\")"
   ]
  },
  {
   "cell_type": "markdown",
   "metadata": {},
   "source": [
    "# std"
   ]
  },
  {
   "cell_type": "code",
   "execution_count": 114,
   "metadata": {},
   "outputs": [],
   "source": [
    "# STD_feature_extraction(df1,df2)\n",
    "# STD_feature_extraction(df1_IMU,df2_IMU)\n",
    "def STD_feature_extraction(df1,df2,col_wise=True,user=\"user10\", get_feature_data=False):\n",
    "    if col_wise:\n",
    "        axis = 0\n",
    "    else:\n",
    "        axis = 1 \n",
    "        \n",
    "    if get_feature_data:\n",
    "        eating_feature_data = ((df1.iloc[:,1:-1]).std(axis))\n",
    "        non_eating_feature_data = ((df2.iloc[:,1:-1]).std(axis))\n",
    "        return ( (pd.DataFrame(eating_feature_data)).T, (pd.DataFrame(non_eating_feature_data)).T )\n",
    "    \n",
    "    try:\n",
    "        ax = ((df1.iloc[:,1:-1]).std(axis)).plot(label='eating',legend=True)\n",
    "        ((df2.iloc[:,1:-1]).std(axis)).plot(ax=ax,label='not eating',legend=True, title=user)\n",
    "        plt.xticks(rotation=70)\n",
    "        plt.show()\n",
    "    except:\n",
    "        print(\"error in AVG_feature_extraction()\")"
   ]
  },
  {
   "cell_type": "code",
   "execution_count": 218,
   "metadata": {},
   "outputs": [],
   "source": [
    "feature_df = pd.DataFrame()"
   ]
  },
  {
   "cell_type": "code",
   "execution_count": 219,
   "metadata": {},
   "outputs": [],
   "source": [
    "for user in user_id:\n",
    "\n",
    "    df1 = get_clean_df(eating=True,user=user)\n",
    "    df2 = get_clean_df(eating=False,user=user)\n",
    "    #df1_IMU = get_clean_df(data_for=\"IMU\",eating=True,user=user)\n",
    "    #df2_IMU = get_clean_df(data_for=\"IMU\",eating=False,user=user)\n",
    "\n",
    "    (STD_eating_EMG, STD_non_eating_EMG) = STD_feature_extraction(df1,df2,col_wise=True,user=user,get_feature_data=True)\n",
    "    (MAX_eating_EMG, MAX_non_eating_EMG) = MAX_feature_extraction(df1,df2,col_wise=True,user=user,get_feature_data=True)\n",
    "    (MIN_eating_EMG, MIN_non_eating_EMG) = MIN_feature_extraction(df1,df2,col_wise=True,user=user,get_feature_data=True)\n",
    "    (AVG_eating_EMG, AVG_non_eating_EMG) = AVG_feature_extraction(df1,df2,col_wise=True,user=user,get_feature_data=True)\n",
    "    (RMS_eating_EMG, RMS_non_eating_EMG) = RMS_feature_extraction(df1,df2,col_wise=True,user=user,get_feature_data=True)\n",
    "\n",
    "    STD_eating_EMG.columns = [str(col) + ' ' + 'STD' for col in STD_eating_EMG.columns]\n",
    "    MAX_eating_EMG.columns = [str(col) + ' ' + 'MAX' for col in MAX_eating_EMG.columns]\n",
    "    MIN_eating_EMG.columns = [str(col) + ' ' + 'MIN' for col in MIN_eating_EMG.columns]\n",
    "    AVG_eating_EMG.columns = [str(col) + ' ' + 'AVG' for col in AVG_eating_EMG.columns]\n",
    "    RMS_eating_EMG.columns = [str(col) + ' ' + 'RMS' for col in RMS_eating_EMG.columns]\n",
    "\n",
    "    STD_non_eating_EMG.columns = [str(col) + ' ' + 'STD' for col in STD_non_eating_EMG.columns]\n",
    "    MAX_non_eating_EMG.columns = [str(col) + ' ' + 'MAX' for col in MAX_non_eating_EMG.columns]\n",
    "    MIN_non_eating_EMG.columns = [str(col) + ' ' + 'MIN' for col in MIN_non_eating_EMG.columns]\n",
    "    AVG_non_eating_EMG.columns = [str(col) + ' ' + 'AVG' for col in AVG_non_eating_EMG.columns]\n",
    "    RMS_non_eating_EMG.columns = [str(col) + ' ' + 'RMS' for col in RMS_non_eating_EMG.columns]\n",
    "\n",
    "    #feature_df = STD_eating_EMG.append(MAX_eating_EMG)\n",
    "\n",
    "    # feature_df = (STD_eating_EMG\n",
    "    #     .append(MAX_eating_EMG)\n",
    "    #     .append(MIN_eating_EMG)\n",
    "    #     .append( AVG_eating_EMG)\n",
    "    #     .append(RMS_eating_EMG)\n",
    "    #     )\n",
    "    eating_row = (STD_eating_EMG\n",
    "                  .join(MAX_eating_EMG)\n",
    "                  .join(MIN_eating_EMG)\n",
    "                  .join(AVG_eating_EMG)\n",
    "                  .join(RMS_eating_EMG)\n",
    "                 )\n",
    "    eating_row['eating'] = True\n",
    "    feature_df = feature_df.append(eating_row,ignore_index=True)\n",
    "\n",
    "    non_eating_row = (STD_non_eating_EMG\n",
    "                  .join(MAX_non_eating_EMG)\n",
    "                  .join(MIN_non_eating_EMG)\n",
    "                  .join(AVG_non_eating_EMG)\n",
    "                  .join(RMS_non_eating_EMG)\n",
    "                 )\n",
    "    non_eating_row['eating'] = False\n",
    "    feature_df = feature_df.append(non_eating_row,ignore_index=True)"
   ]
  },
  {
   "cell_type": "code",
   "execution_count": 231,
   "metadata": {},
   "outputs": [
    {
     "data": {
      "text/html": [
       "<div>\n",
       "<style scoped>\n",
       "    .dataframe tbody tr th:only-of-type {\n",
       "        vertical-align: middle;\n",
       "    }\n",
       "\n",
       "    .dataframe tbody tr th {\n",
       "        vertical-align: top;\n",
       "    }\n",
       "\n",
       "    .dataframe thead th {\n",
       "        text-align: right;\n",
       "    }\n",
       "</style>\n",
       "<table border=\"1\" class=\"dataframe\">\n",
       "  <thead>\n",
       "    <tr style=\"text-align: right;\">\n",
       "      <th></th>\n",
       "      <th>EMG 1 STD</th>\n",
       "      <th>EMG 2 STD</th>\n",
       "      <th>EMG 3 STD</th>\n",
       "      <th>EMG 4 STD</th>\n",
       "      <th>EMG 5 STD</th>\n",
       "      <th>EMG 6 STD</th>\n",
       "      <th>EMG 7 STD</th>\n",
       "      <th>EMG 8 STD</th>\n",
       "      <th>EMG 1 MAX</th>\n",
       "      <th>EMG 2 MAX</th>\n",
       "      <th>...</th>\n",
       "      <th>EMG 8 AVG</th>\n",
       "      <th>EMG 1 RMS</th>\n",
       "      <th>EMG 2 RMS</th>\n",
       "      <th>EMG 3 RMS</th>\n",
       "      <th>EMG 4 RMS</th>\n",
       "      <th>EMG 5 RMS</th>\n",
       "      <th>EMG 6 RMS</th>\n",
       "      <th>EMG 7 RMS</th>\n",
       "      <th>EMG 8 RMS</th>\n",
       "      <th>eating</th>\n",
       "    </tr>\n",
       "  </thead>\n",
       "  <tbody>\n",
       "    <tr>\n",
       "      <td>53</td>\n",
       "      <td>9.569511</td>\n",
       "      <td>6.929187</td>\n",
       "      <td>8.851673</td>\n",
       "      <td>9.627921</td>\n",
       "      <td>8.839229</td>\n",
       "      <td>4.870948</td>\n",
       "      <td>6.348776</td>\n",
       "      <td>6.897131</td>\n",
       "      <td>89</td>\n",
       "      <td>97</td>\n",
       "      <td>...</td>\n",
       "      <td>3.847356</td>\n",
       "      <td>9.599976</td>\n",
       "      <td>6.978390</td>\n",
       "      <td>8.890729</td>\n",
       "      <td>9.661180</td>\n",
       "      <td>8.875564</td>\n",
       "      <td>4.925421</td>\n",
       "      <td>6.389539</td>\n",
       "      <td>6.943185</td>\n",
       "      <td>False</td>\n",
       "    </tr>\n",
       "    <tr>\n",
       "      <td>54</td>\n",
       "      <td>6.755245</td>\n",
       "      <td>6.770544</td>\n",
       "      <td>2.665494</td>\n",
       "      <td>2.666445</td>\n",
       "      <td>2.573024</td>\n",
       "      <td>2.707160</td>\n",
       "      <td>2.943179</td>\n",
       "      <td>11.285357</td>\n",
       "      <td>56</td>\n",
       "      <td>52</td>\n",
       "      <td>...</td>\n",
       "      <td>5.103541</td>\n",
       "      <td>6.789884</td>\n",
       "      <td>6.825357</td>\n",
       "      <td>2.799241</td>\n",
       "      <td>2.789223</td>\n",
       "      <td>2.704004</td>\n",
       "      <td>2.808983</td>\n",
       "      <td>3.069405</td>\n",
       "      <td>11.314662</td>\n",
       "      <td>True</td>\n",
       "    </tr>\n",
       "    <tr>\n",
       "      <td>55</td>\n",
       "      <td>6.822248</td>\n",
       "      <td>7.710461</td>\n",
       "      <td>3.707261</td>\n",
       "      <td>3.598427</td>\n",
       "      <td>4.363044</td>\n",
       "      <td>2.999422</td>\n",
       "      <td>3.548907</td>\n",
       "      <td>9.521912</td>\n",
       "      <td>66</td>\n",
       "      <td>111</td>\n",
       "      <td>...</td>\n",
       "      <td>3.784823</td>\n",
       "      <td>6.864381</td>\n",
       "      <td>7.756649</td>\n",
       "      <td>3.793844</td>\n",
       "      <td>3.679715</td>\n",
       "      <td>4.435789</td>\n",
       "      <td>3.092612</td>\n",
       "      <td>3.642868</td>\n",
       "      <td>9.551529</td>\n",
       "      <td>False</td>\n",
       "    </tr>\n",
       "    <tr>\n",
       "      <td>56</td>\n",
       "      <td>6.433286</td>\n",
       "      <td>9.285047</td>\n",
       "      <td>6.270750</td>\n",
       "      <td>4.827102</td>\n",
       "      <td>7.019383</td>\n",
       "      <td>3.361168</td>\n",
       "      <td>3.798125</td>\n",
       "      <td>6.417055</td>\n",
       "      <td>94</td>\n",
       "      <td>110</td>\n",
       "      <td>...</td>\n",
       "      <td>4.225913</td>\n",
       "      <td>6.475886</td>\n",
       "      <td>9.320144</td>\n",
       "      <td>6.312331</td>\n",
       "      <td>4.906532</td>\n",
       "      <td>7.068928</td>\n",
       "      <td>3.449095</td>\n",
       "      <td>3.873424</td>\n",
       "      <td>6.474454</td>\n",
       "      <td>True</td>\n",
       "    </tr>\n",
       "    <tr>\n",
       "      <td>57</td>\n",
       "      <td>5.514149</td>\n",
       "      <td>10.324035</td>\n",
       "      <td>6.517504</td>\n",
       "      <td>4.567057</td>\n",
       "      <td>6.593456</td>\n",
       "      <td>3.670105</td>\n",
       "      <td>3.724379</td>\n",
       "      <td>6.674646</td>\n",
       "      <td>60</td>\n",
       "      <td>92</td>\n",
       "      <td>...</td>\n",
       "      <td>4.466045</td>\n",
       "      <td>5.564208</td>\n",
       "      <td>10.354050</td>\n",
       "      <td>6.554367</td>\n",
       "      <td>4.654506</td>\n",
       "      <td>6.641964</td>\n",
       "      <td>3.752298</td>\n",
       "      <td>3.797035</td>\n",
       "      <td>6.726983</td>\n",
       "      <td>False</td>\n",
       "    </tr>\n",
       "  </tbody>\n",
       "</table>\n",
       "<p>5 rows × 41 columns</p>\n",
       "</div>"
      ],
      "text/plain": [
       "    EMG 1 STD  EMG 2 STD  EMG 3 STD  EMG 4 STD  EMG 5 STD  EMG 6 STD  \\\n",
       "53   9.569511   6.929187   8.851673   9.627921   8.839229   4.870948   \n",
       "54   6.755245   6.770544   2.665494   2.666445   2.573024   2.707160   \n",
       "55   6.822248   7.710461   3.707261   3.598427   4.363044   2.999422   \n",
       "56   6.433286   9.285047   6.270750   4.827102   7.019383   3.361168   \n",
       "57   5.514149  10.324035   6.517504   4.567057   6.593456   3.670105   \n",
       "\n",
       "    EMG 7 STD  EMG 8 STD  EMG 1 MAX  EMG 2 MAX  ...  EMG 8 AVG  EMG 1 RMS  \\\n",
       "53   6.348776   6.897131         89         97  ...   3.847356   9.599976   \n",
       "54   2.943179  11.285357         56         52  ...   5.103541   6.789884   \n",
       "55   3.548907   9.521912         66        111  ...   3.784823   6.864381   \n",
       "56   3.798125   6.417055         94        110  ...   4.225913   6.475886   \n",
       "57   3.724379   6.674646         60         92  ...   4.466045   5.564208   \n",
       "\n",
       "    EMG 2 RMS  EMG 3 RMS  EMG 4 RMS  EMG 5 RMS  EMG 6 RMS  EMG 7 RMS  \\\n",
       "53   6.978390   8.890729   9.661180   8.875564   4.925421   6.389539   \n",
       "54   6.825357   2.799241   2.789223   2.704004   2.808983   3.069405   \n",
       "55   7.756649   3.793844   3.679715   4.435789   3.092612   3.642868   \n",
       "56   9.320144   6.312331   4.906532   7.068928   3.449095   3.873424   \n",
       "57  10.354050   6.554367   4.654506   6.641964   3.752298   3.797035   \n",
       "\n",
       "    EMG 8 RMS  eating  \n",
       "53   6.943185   False  \n",
       "54  11.314662    True  \n",
       "55   9.551529   False  \n",
       "56   6.474454    True  \n",
       "57   6.726983   False  \n",
       "\n",
       "[5 rows x 41 columns]"
      ]
     },
     "execution_count": 231,
     "metadata": {},
     "output_type": "execute_result"
    }
   ],
   "source": [
    "feature_df\n",
    "backup_feature_df = feature_df\n",
    "backup_feature_df.tail()"
   ]
  },
  {
   "cell_type": "markdown",
   "metadata": {},
   "source": [
    "# Make the feature matrix"
   ]
  },
  {
   "cell_type": "code",
   "execution_count": null,
   "metadata": {},
   "outputs": [],
   "source": [
    "# total_samples = 2*df1.shape[0]\n",
    "feature_df = pd.DataFrame() \n",
    "feature_df['min'] = ((data_df.iloc[:,1:-1]).abs().min(1))\n",
    "feature_df['max'] = ((data_df.iloc[:,1:-1]).abs().max(1))\n",
    "feature_df['STD'] = ((data_df.iloc[:,1:-1]).std(1))\n",
    "feature_df['AVG'] = (data_df.iloc[:,1:-1]).abs().mean(1)\n",
    "feature_df['RMS'] = (((data_df.iloc[:,1:-1]**2).sum(1))/8).pow(1/2)\n",
    "def get_data_df(df1,df2):\n",
    "    return df1.append(df2, ignore_index=True)\n",
    "\n",
    "def get_feature_df(df1, data_df):\n",
    "    total_samples = 2*df1.shape[0]\n",
    "    feature_df = pd.DataFrame() \n",
    "    feature_df['min'] = ((data_df.iloc[:,1:-1]).abs().min(1))\n",
    "    feature_df['max'] = ((data_df.iloc[:,1:-1]).abs().max(1))\n",
    "    feature_df['STD'] = ((data_df.iloc[:,1:-1]).std(1))\n",
    "    feature_df['AVG'] = (data_df.iloc[:,1:-1]).abs().mean(1)\n",
    "    feature_df['RMS'] = (((data_df.iloc[:,1:-1]**2).sum(1))/8).pow(1/2)\n",
    "    return feature_df"
   ]
  },
  {
   "cell_type": "markdown",
   "metadata": {},
   "source": [
    "# PCA"
   ]
  },
  {
   "cell_type": "code",
   "execution_count": 222,
   "metadata": {},
   "outputs": [],
   "source": [
    "from sklearn.decomposition import PCA\n",
    "from sklearn.preprocessing import StandardScaler"
   ]
  },
  {
   "cell_type": "code",
   "execution_count": 223,
   "metadata": {},
   "outputs": [],
   "source": [
    "pca = PCA()\n",
    "pca.fit(feature_df)\n",
    "pca.explained_variance_ratio_\n",
    "pca.explained_variance_\n",
    "eigenvalues = pca.explained_variance_\n",
    "eigenvectors = pca.components_\n",
    "# feature_df.dot(eigenvectors[0])\n",
    "# plt.plot(eigenvectors[0])\n",
    "# plt.plot(eigenvectors[1])\n",
    "# plt.plot(eigenvectors[2])\n",
    "# plt.plot(eigenvectors[3])\n",
    "# plt.show()\n",
    "# feature_df.dot(eigenvectors[0])\n",
    "#pca_2 = PCA()\n",
    "#principalComponents = pca_2.fit_transform(feature_df_std)\n",
    "#pd.DataFrame(data=principalComponents, columns = ['PC 1', 'PC 2', 'PC 3', 'PC 4', 'PC 5'])"
   ]
  },
  {
   "cell_type": "code",
   "execution_count": 251,
   "metadata": {},
   "outputs": [],
   "source": [
    "#data_df = get_data_df(df1,df2)\n",
    "#feature_df = get_feature_df(df1, data_df)\n",
    "\n",
    "X = feature_df.iloc[:,:-1]\n",
    "X_std = StandardScaler().fit_transform(feature_df.iloc[:,:-1])\n"
   ]
  },
  {
   "cell_type": "code",
   "execution_count": 252,
   "metadata": {},
   "outputs": [],
   "source": [
    "mean_vec = np.mean(X_std, axis=0)\n",
    "cov_mat = (X_std - mean_vec).T.dot((X_std - mean_vec)) / (X_std.shape[0]-1)\n",
    "# print('Covariance matrix \\n%s' %cov_mat)\n",
    "# print('NumPy covariance matrix: \\n%s' %np.cov(X_std.T))"
   ]
  },
  {
   "cell_type": "code",
   "execution_count": 253,
   "metadata": {},
   "outputs": [],
   "source": [
    "cov_mat = np.cov(X_std.T)\n",
    "\n",
    "eig_vals, eig_vecs = np.linalg.eig(cov_mat)\n",
    "\n",
    "# print('Eigenvectors \\n%s' %eig_vecs)\n",
    "# print('\\nEigenvalues \\n%s' %eig_vals)"
   ]
  },
  {
   "cell_type": "code",
   "execution_count": 254,
   "metadata": {},
   "outputs": [],
   "source": [
    "cor_mat1 = np.corrcoef(X_std.T)\n",
    "\n",
    "eig_vals, eig_vecs = np.linalg.eig(cor_mat1)\n",
    "\n",
    "# print('Eigenvectors \\n%s' %eig_vecs)\n",
    "# print('\\nEigenvalues \\n%s' %eig_vals)"
   ]
  },
  {
   "cell_type": "code",
   "execution_count": 255,
   "metadata": {},
   "outputs": [],
   "source": [
    "cor_mat2 = np.corrcoef(X.T)\n",
    "\n",
    "eig_vals, eig_vecs = np.linalg.eig(cor_mat2)\n",
    "\n",
    "# print('Eigenvectors \\n%s' %eig_vecs)\n",
    "# print('\\nEigenvalues \\n%s' %eig_vals)"
   ]
  },
  {
   "cell_type": "code",
   "execution_count": 256,
   "metadata": {},
   "outputs": [
    {
     "name": "stdout",
     "output_type": "stream",
     "text": [
      "Eigenvalues in descending order:\n",
      "16.525321673704855\n",
      "5.3807364425869055\n",
      "4.604433221188383\n",
      "3.105828502227936\n",
      "2.4923568123426354\n",
      "1.6989008948746898\n",
      "1.3873334105394517\n",
      "1.0118734122339892\n",
      "0.7721541597113529\n",
      "0.6153592488225234\n",
      "0.4624449232993176\n",
      "0.38725965665057355\n",
      "0.3014961773138866\n",
      "0.2943625354306273\n",
      "0.19003533174302975\n",
      "0.16340006628174045\n",
      "0.13330424929722345\n",
      "0.10958302631249506\n",
      "0.08295990791998364\n",
      "0.05721320022969319\n",
      "0.047744829596013096\n",
      "0.04062547151479773\n",
      "0.03459959947034947\n",
      "0.028149885123072118\n",
      "0.025550353246255958\n",
      "0.014140954142850463\n",
      "0.010764887888776439\n",
      "0.00902823298400954\n",
      "0.004927644408684323\n",
      "0.004112203724537317\n",
      "0.0028282007488446568\n",
      "0.0011285562458509867\n",
      "1.6317880438590177e-05\n",
      "1.1212829741964919e-05\n",
      "6.13253108748534e-06\n",
      "4.447128875582817e-06\n",
      "2.230209855765785e-06\n",
      "1.2435315268324892e-06\n",
      "5.272909689941643e-07\n",
      "2.1679218613119705e-07\n"
     ]
    }
   ],
   "source": [
    "# Make a list of (eigenvalue, eigenvector) tuples\n",
    "eig_pairs = [(np.abs(eig_vals[i]), eig_vecs[:,i]) for i in range(len(eig_vals))]\n",
    "\n",
    "# Sort the (eigenvalue, eigenvector) tuples from high to low\n",
    "eig_pairs.sort(key=lambda x: x[0], reverse=True)\n",
    "\n",
    "# Visually confirm that the list is correctly sorted by decreasing eigenvalues\n",
    "print('Eigenvalues in descending order:')\n",
    "for i in eig_pairs:\n",
    "    print(i[0])"
   ]
  },
  {
   "cell_type": "code",
   "execution_count": 257,
   "metadata": {},
   "outputs": [],
   "source": [
    "tot = sum(eig_vals)\n",
    "var_exp = [(i / tot)*100 for i in sorted(eig_vals, reverse=True)]\n",
    "cum_var_exp = np.cumsum(var_exp)"
   ]
  },
  {
   "cell_type": "code",
   "execution_count": 258,
   "metadata": {},
   "outputs": [
    {
     "data": {
      "image/png": "[encoded data removed]",
      "text/plain": [
       "<Figure size 432x288 with 1 Axes>"
      ]
     },
     "metadata": {},
     "output_type": "display_data"
    }
   ],
   "source": [
    "with plt.style.context('seaborn-whitegrid'):\n",
    "    plt.figure(figsize=(6, 4))\n",
    "\n",
    "    plt.bar(range(40), var_exp, alpha=0.5, align='center',label='individual explained variance')\n",
    "    plt.step(range(40), cum_var_exp, where='mid',label='cumulative explained variance')\n",
    "    plt.ylabel('Explained variance ratio')\n",
    "    plt.xlabel('Principal components')\n",
    "    plt.legend(loc='best')\n",
    "    plt.tight_layout()"
   ]
  },
  {
   "cell_type": "code",
   "execution_count": 259,
   "metadata": {},
   "outputs": [
    {
     "name": "stdout",
     "output_type": "stream",
     "text": [
      "Matrix W:\n",
      " [[-0.08877842 -0.27815561]\n",
      " [-0.13248863 -0.27844695]\n",
      " [-0.16985895 -0.13332317]\n",
      " [-0.17246486  0.16941997]\n",
      " [-0.196777    0.04849937]\n",
      " [-0.19026511  0.15702722]\n",
      " [-0.18438774  0.15846595]\n",
      " [-0.14762748  0.10954487]\n",
      " [-0.1625256  -0.16147067]\n",
      " [-0.15682088 -0.11960794]\n",
      " [-0.15543464 -0.04232001]\n",
      " [-0.18368275  0.10431566]\n",
      " [-0.17727561 -0.07224165]\n",
      " [-0.18135155 -0.03099098]\n",
      " [-0.19426413  0.00529515]\n",
      " [-0.12364459 -0.00635934]\n",
      " [ 0.15545544  0.17087384]\n",
      " [ 0.16255662  0.12299479]\n",
      " [ 0.15569386  0.03898725]\n",
      " [ 0.15221094 -0.08741908]\n",
      " [ 0.17021723  0.0906314 ]\n",
      " [ 0.18069913  0.06071713]\n",
      " [ 0.20139709 -0.01428044]\n",
      " [ 0.10675321 -0.03419407]\n",
      " [-0.06700926 -0.27060621]\n",
      " [-0.09758135 -0.29209891]\n",
      " [-0.11393388 -0.18963135]\n",
      " [-0.14777057  0.15976533]\n",
      " [-0.16925285  0.10834386]\n",
      " [-0.13946013  0.21066091]\n",
      " [-0.13168229  0.22331431]\n",
      " [-0.13784705  0.12627645]\n",
      " [-0.08866733 -0.2782005 ]\n",
      " [-0.13240826 -0.27841604]\n",
      " [-0.16988743 -0.13360255]\n",
      " [-0.17208424  0.16995359]\n",
      " [-0.1964353   0.04841874]\n",
      " [-0.18964565  0.15831587]\n",
      " [-0.18422592  0.15929835]\n",
      " [-0.14763458  0.10973333]]\n"
     ]
    }
   ],
   "source": [
    "matrix_w = np.hstack((eig_pairs[0][1].reshape(40,1),\n",
    "                      eig_pairs[1][1].reshape(40,1)))\n",
    "\n",
    "print('Matrix W:\\n', matrix_w)"
   ]
  },
  {
   "cell_type": "code",
   "execution_count": 260,
   "metadata": {},
   "outputs": [],
   "source": [
    "#y = data_df.iloc[:,-1]\n",
    "y = feature_df.iloc[:,-1]\n",
    "#y == False"
   ]
  },
  {
   "cell_type": "code",
   "execution_count": 266,
   "metadata": {},
   "outputs": [
    {
     "data": {
      "image/png": "[encoded data removed]",
      "text/plain": [
       "<Figure size 432x288 with 1 Axes>"
      ]
     },
     "metadata": {},
     "output_type": "display_data"
    }
   ],
   "source": [
    "Y = X_std.dot(matrix_w)\n",
    "with plt.style.context('seaborn-whitegrid'):\n",
    "    plt.figure(figsize=(6, 4))\n",
    "    for lab, color in zip((True, False),\n",
    "                        ('blue', 'red')):\n",
    "        \n",
    "        plt.scatter(Y[y==lab, 0],\n",
    "                    Y[y==lab, 1],\n",
    "                    label=lab,\n",
    "                    c=color,\n",
    "                    s=10)\n",
    "                   \n",
    "    plt.xlabel('Principal Component 1')\n",
    "    plt.ylabel('Principal Component 2')\n",
    "    plt.legend(loc='lower center')\n",
    "    plt.tight_layout()\n",
    "    plt.show()"
   ]
  },
  {
   "cell_type": "code",
   "execution_count": 267,
   "metadata": {},
   "outputs": [
    {
     "data": {
      "image/png": "[encoded data removed]",
      "text/plain": [
       "<Figure size 432x288 with 1 Axes>"
      ]
     },
     "metadata": {},
     "output_type": "display_data"
    }
   ],
   "source": [
    "from sklearn.decomposition import PCA as sklearnPCA\n",
    "sklearn_pca = sklearnPCA(n_components=2)\n",
    "Y_sklearn = sklearn_pca.fit_transform(X_std)\n",
    "\n",
    "with plt.style.context('seaborn-whitegrid'):\n",
    "    plt.figure(figsize=(6, 4))\n",
    "    for lab, col in zip((True,False),\n",
    "                        ('blue','red')):\n",
    "        plt.scatter(Y_sklearn[y==lab, 0],\n",
    "                    Y_sklearn[y==lab, 1],\n",
    "                    label=lab,\n",
    "                    c=col,\n",
    "                    s=10)\n",
    "    plt.xlabel('Principal Component 1')\n",
    "    plt.ylabel('Principal Component 2')\n",
    "    plt.legend(loc='lower center')\n",
    "    plt.tight_layout()\n",
    "    plt.show()"
   ]
  },
  {
   "cell_type": "code",
   "execution_count": null,
   "metadata": {},
   "outputs": [],
   "source": []
  },
  {
   "cell_type": "code",
   "execution_count": null,
   "metadata": {},
   "outputs": [],
   "source": []
  },
  {
   "cell_type": "code",
   "execution_count": null,
   "metadata": {},
   "outputs": [],
   "source": []
  },
  {
   "cell_type": "code",
   "execution_count": null,
   "metadata": {},
   "outputs": [],
   "source": []
  }
 ],
 "metadata": {
  "kernelspec": {
   "display_name": "Python 3",
   "language": "python",
   "name": "python3"
  },
  "language_info": {
   "codemirror_mode": {
    "name": "ipython",
    "version": 3
   },
   "file_extension": ".py",
   "mimetype": "text/x-python",
   "name": "python",
   "nbconvert_exporter": "python",
   "pygments_lexer": "ipython3",
   "version": "3.7.4"
  }
 },
 "nbformat": 4,
 "nbformat_minor": 4
}
