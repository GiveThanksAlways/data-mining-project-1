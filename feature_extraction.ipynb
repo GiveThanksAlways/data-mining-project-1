{
 "cells": [
  {
   "cell_type": "code",
   "execution_count": 281,
   "metadata": {},
   "outputs": [],
   "source": [
    "import os\n",
    "import pandas as pd\n",
    "import numpy as np\n",
    "import matplotlib.pyplot as plt\n",
    "\n",
    "user_id = os.listdir(\"clean_data\")\n",
    "user_id.remove('.ipynb_checkpoints')"
   ]
  },
  {
   "cell_type": "code",
   "execution_count": 109,
   "metadata": {},
   "outputs": [],
   "source": [
    "def get_clean_paths(user, fork_or_spoon= 'fork'):\n",
    "    parent_path = \"clean_data/\" + user + '/' + fork_or_spoon\n",
    "    #dir_list = os.listdir(parent_path)\n",
    "    EMG_eating_txt_path = parent_path + \"/\" + \"eating_EMG.txt\"\n",
    "    EMG_not_eating_txt_path = parent_path + \"/\" + \"not_eating_EMG.txt\"\n",
    "    IMU_eating_txt_path = parent_path + \"/\" + \"eating_IMU.txt\"\n",
    "    IMU_not_eating_txt_path = parent_path + \"/\" + \"not_eating_IMU.txt\"\n",
    "    master_EMG_path = parent_path + \"/\" + \"master_dfEMG.txt\"\n",
    "    master_IMU_path = parent_path + \"/\" + \"master_dfIMU.txt\"\n",
    "    return (master_EMG_path, EMG_eating_txt_path, EMG_not_eating_txt_path, master_IMU_path, IMU_eating_txt_path, IMU_not_eating_txt_path)\n",
    "\n",
    "def get_clean_df(user = \"user10\", data_for=\"EMG\", fork_or_spoon=\"fork\", eating=True, master=False):\n",
    "    paths = get_clean_paths(user, fork_or_spoon)\n",
    "    if data_for == \"EMG\":\n",
    "        if master:\n",
    "            return pd.read_csv(paths[0], sep=\",\", index_col=0)\n",
    "        elif eating:\n",
    "            return pd.read_csv(paths[1], sep=\",\", index_col=0)\n",
    "        else:\n",
    "            return pd.read_csv(paths[2], sep=\",\", index_col=0)\n",
    "\n",
    "    elif( data_for == \"IMU\"):\n",
    "        if master:\n",
    "            return pd.read_csv(paths[3], sep=\",\", index_col=0)\n",
    "        elif eating:\n",
    "            return pd.read_csv(paths[4], sep=\",\", index_col=0)\n",
    "        else:\n",
    "            return pd.read_csv(paths[5], sep=\",\", index_col=0)\n",
    "    "
   ]
  },
  {
   "cell_type": "markdown",
   "metadata": {},
   "source": [
    "# RMS"
   ]
  },
  {
   "cell_type": "code",
   "execution_count": 110,
   "metadata": {},
   "outputs": [],
   "source": [
    "# RMS_feature_extraction(df1,df2)\n",
    "# RMS_feature_extraction(df1_IMU,df2_IMU)\n",
    "def RMS_feature_extraction(df1,df2,col_wise=True,user=\"user10\", get_feature_data=False):\n",
    "    if col_wise:\n",
    "        axis = 0\n",
    "        n = (df1.iloc[:,1:-1]).shape[0]\n",
    "    else:\n",
    "        axis = 1 \n",
    "        n = (df1.iloc[:,1:-1]).shape[1]\n",
    "    if get_feature_data:\n",
    "        eating_feature_data = ((((df1.iloc[:,1:-1]**2).sum(axis))/n).pow(1/2))\n",
    "        non_eating_feature_data = (((df2.iloc[:,1:-1]**2).sum(axis)/n).pow(1/2))\n",
    "        return ( (pd.DataFrame(eating_feature_data)).T, (pd.DataFrame(non_eating_feature_data)).T )\n",
    "    \n",
    "    try:\n",
    "        ax = ((((df1.iloc[:,1:-1]**2).sum(axis))/n).pow(1/2)).plot(label='eating',legend=True)\n",
    "        ((df2.iloc[:,1:-1]**2).sum(axis)/n).pow(1/2).plot(ax=ax,label='not eating',legend=True, title=user)\n",
    "        plt.xticks(rotation=70)\n",
    "        plt.show()\n",
    "    except:\n",
    "        print(\"error in RMS_feature_extraction()\")"
   ]
  },
  {
   "cell_type": "markdown",
   "metadata": {},
   "source": [
    "# avg"
   ]
  },
  {
   "cell_type": "code",
   "execution_count": 111,
   "metadata": {},
   "outputs": [],
   "source": [
    "# AVG_feature_extraction(df1,df2)\n",
    "# AVG_feature_extraction(df1_IMU,df2_IMU)\n",
    "def AVG_feature_extraction(df1,df2,col_wise=True,user=\"user10\", get_feature_data=False):\n",
    "    if col_wise:\n",
    "        axis = 0\n",
    "    else:\n",
    "        axis = 1 \n",
    "    if get_feature_data:\n",
    "        eating_feature_data = ((df1.iloc[:,1:-1]).abs().mean(axis))\n",
    "        non_eating_feature_data = ((df2.iloc[:,1:-1]).abs().mean(axis))\n",
    "        return ( (pd.DataFrame(eating_feature_data)).T, (pd.DataFrame(non_eating_feature_data)).T )\n",
    "    \n",
    "    try:\n",
    "        ax = ((df1.iloc[:,1:-1]).abs().mean(axis)).plot(label='eating',legend=True)\n",
    "        ((df2.iloc[:,1:-1]).abs().mean(axis)).plot(ax=ax,label='not eating',legend=True, title=user)\n",
    "        plt.xticks(rotation=70)\n",
    "        plt.show()\n",
    "    except:\n",
    "        print(\"error in AVG_feature_extraction()\")"
   ]
  },
  {
   "cell_type": "markdown",
   "metadata": {},
   "source": [
    "# min"
   ]
  },
  {
   "cell_type": "code",
   "execution_count": 112,
   "metadata": {},
   "outputs": [],
   "source": [
    "# MIN_feature_extraction(df1,df2)\n",
    "def MIN_feature_extraction(df1,df2,col_wise=True,user=\"user10\", get_feature_data=False):\n",
    "    if col_wise:\n",
    "        axis = 0\n",
    "    else:\n",
    "        axis = 1 \n",
    "    if get_feature_data:\n",
    "        eating_feature_data = ((df1.iloc[:,1:-1]).min(axis))\n",
    "        non_eating_feature_data = ((df2.iloc[:,1:-1]).min(axis))\n",
    "        return ( (pd.DataFrame(eating_feature_data)).T, (pd.DataFrame(non_eating_feature_data)).T )\n",
    "    \n",
    "    try:\n",
    "        ax = ((df1.iloc[:,1:-1]).min(axis)).plot(label='eating',legend=True)\n",
    "        ((df2.iloc[:,1:-1]).min(axis)).plot(ax=ax,label='not eating',legend=True, title=user)\n",
    "        plt.xticks(rotation=70)\n",
    "        plt.show()\n",
    "    except:\n",
    "        print(\"error in MIN_feature_extraction()\")"
   ]
  },
  {
   "cell_type": "markdown",
   "metadata": {},
   "source": [
    "# max"
   ]
  },
  {
   "cell_type": "code",
   "execution_count": 113,
   "metadata": {},
   "outputs": [],
   "source": [
    "# MAX_feature_extraction(df1,df2)\n",
    "# MAX_feature_extraction(df1_IMU,df2_IMU)\n",
    "def MAX_feature_extraction(df1,df2,col_wise=True,user=\"user10\", get_feature_data=False):\n",
    "    if col_wise:\n",
    "        axis = 0\n",
    "    else:\n",
    "        axis = 1 \n",
    "        \n",
    "    if get_feature_data:\n",
    "        eating_feature_data = ((df1.iloc[:,1:-1]).abs().max(axis))\n",
    "        non_eating_feature_data = ((df2.iloc[:,1:-1]).abs().max(axis))\n",
    "        return ( (pd.DataFrame(eating_feature_data)).T, (pd.DataFrame(non_eating_feature_data)).T )\n",
    "    \n",
    "    try:\n",
    "        ax = ((df1.iloc[:,1:-1]).abs().max(axis)).plot(label='eating',legend=True)\n",
    "        ((df2.iloc[:,1:-1]).abs().max(axis)).plot(ax=ax,label='not eating',legend=True, title=user)\n",
    "        plt.xticks(rotation=70)\n",
    "        plt.show()\n",
    "    except:\n",
    "        print(\"error in AVG_feature_extraction()\")"
   ]
  },
  {
   "cell_type": "markdown",
   "metadata": {},
   "source": [
    "# std"
   ]
  },
  {
   "cell_type": "code",
   "execution_count": 114,
   "metadata": {},
   "outputs": [],
   "source": [
    "# STD_feature_extraction(df1,df2)\n",
    "# STD_feature_extraction(df1_IMU,df2_IMU)\n",
    "def STD_feature_extraction(df1,df2,col_wise=True,user=\"user10\", get_feature_data=False):\n",
    "    if col_wise:\n",
    "        axis = 0\n",
    "    else:\n",
    "        axis = 1 \n",
    "        \n",
    "    if get_feature_data:\n",
    "        eating_feature_data = ((df1.iloc[:,1:-1]).std(axis))\n",
    "        non_eating_feature_data = ((df2.iloc[:,1:-1]).std(axis))\n",
    "        return ( (pd.DataFrame(eating_feature_data)).T, (pd.DataFrame(non_eating_feature_data)).T )\n",
    "    \n",
    "    try:\n",
    "        ax = ((df1.iloc[:,1:-1]).std(axis)).plot(label='eating',legend=True)\n",
    "        ((df2.iloc[:,1:-1]).std(axis)).plot(ax=ax,label='not eating',legend=True, title=user)\n",
    "        plt.xticks(rotation=70)\n",
    "        plt.show()\n",
    "    except:\n",
    "        print(\"error in AVG_feature_extraction()\")"
   ]
  },
  {
   "cell_type": "code",
   "execution_count": 218,
   "metadata": {},
   "outputs": [],
   "source": [
    "#get_clean_df(user = \"user10\", data_for=\"EMG\", fork_or_spoon=\"fork\", eating=True, master=False)"
   ]
  },
  {
   "cell_type": "code",
   "execution_count": 282,
   "metadata": {},
   "outputs": [],
   "source": [
    "feature_df = pd.DataFrame()\n",
    "\n",
    "for user in user_id:\n",
    "    for item in ['fork','spoon']:\n",
    "\n",
    "        df1 = get_clean_df(user=user, fork_or_spoon=item, eating=True)\n",
    "        df2 = get_clean_df(user=user, fork_or_spoon=item, eating=False)\n",
    "        #df1_IMU = get_clean_df(data_for=\"IMU\",eating=True,user=user)\n",
    "        #df2_IMU = get_clean_df(data_for=\"IMU\",eating=False,user=user)\n",
    "\n",
    "        (STD_eating_EMG, STD_non_eating_EMG) = STD_feature_extraction(df1,df2,col_wise=True,user=user,get_feature_data=True)\n",
    "        (MAX_eating_EMG, MAX_non_eating_EMG) = MAX_feature_extraction(df1,df2,col_wise=True,user=user,get_feature_data=True)\n",
    "        (MIN_eating_EMG, MIN_non_eating_EMG) = MIN_feature_extraction(df1,df2,col_wise=True,user=user,get_feature_data=True)\n",
    "        (AVG_eating_EMG, AVG_non_eating_EMG) = AVG_feature_extraction(df1,df2,col_wise=True,user=user,get_feature_data=True)\n",
    "        (RMS_eating_EMG, RMS_non_eating_EMG) = RMS_feature_extraction(df1,df2,col_wise=True,user=user,get_feature_data=True)\n",
    "\n",
    "        STD_eating_EMG.columns = [str(col) + ' ' + 'STD' for col in STD_eating_EMG.columns]\n",
    "        MAX_eating_EMG.columns = [str(col) + ' ' + 'MAX' for col in MAX_eating_EMG.columns]\n",
    "        MIN_eating_EMG.columns = [str(col) + ' ' + 'MIN' for col in MIN_eating_EMG.columns]\n",
    "        AVG_eating_EMG.columns = [str(col) + ' ' + 'AVG' for col in AVG_eating_EMG.columns]\n",
    "        RMS_eating_EMG.columns = [str(col) + ' ' + 'RMS' for col in RMS_eating_EMG.columns]\n",
    "\n",
    "        STD_non_eating_EMG.columns = [str(col) + ' ' + 'STD' for col in STD_non_eating_EMG.columns]\n",
    "        MAX_non_eating_EMG.columns = [str(col) + ' ' + 'MAX' for col in MAX_non_eating_EMG.columns]\n",
    "        MIN_non_eating_EMG.columns = [str(col) + ' ' + 'MIN' for col in MIN_non_eating_EMG.columns]\n",
    "        AVG_non_eating_EMG.columns = [str(col) + ' ' + 'AVG' for col in AVG_non_eating_EMG.columns]\n",
    "        RMS_non_eating_EMG.columns = [str(col) + ' ' + 'RMS' for col in RMS_non_eating_EMG.columns]\n",
    "\n",
    "        #feature_df = STD_eating_EMG.append(MAX_eating_EMG)\n",
    "\n",
    "        # feature_df = (STD_eating_EMG\n",
    "        #     .append(MAX_eating_EMG)\n",
    "        #     .append(MIN_eating_EMG)\n",
    "        #     .append( AVG_eating_EMG)\n",
    "        #     .append(RMS_eating_EMG)\n",
    "        #     )\n",
    "        eating_row = (STD_eating_EMG\n",
    "                      .join(MAX_eating_EMG)\n",
    "                      .join(MIN_eating_EMG)\n",
    "                      .join(AVG_eating_EMG)\n",
    "                      .join(RMS_eating_EMG)\n",
    "                     )\n",
    "        eating_row['eating'] = True\n",
    "        feature_df = feature_df.append(eating_row,ignore_index=True)\n",
    "\n",
    "        non_eating_row = (STD_non_eating_EMG\n",
    "                      .join(MAX_non_eating_EMG)\n",
    "                      .join(MIN_non_eating_EMG)\n",
    "                      .join(AVG_non_eating_EMG)\n",
    "                      .join(RMS_non_eating_EMG)\n",
    "                     )\n",
    "        non_eating_row['eating'] = False\n",
    "        feature_df = feature_df.append(non_eating_row,ignore_index=True)\n",
    "    \n",
    "    "
   ]
  },
  {
   "cell_type": "code",
   "execution_count": 283,
   "metadata": {},
   "outputs": [
    {
     "data": {
      "text/html": [
       "<div>\n",
       "<style scoped>\n",
       "    .dataframe tbody tr th:only-of-type {\n",
       "        vertical-align: middle;\n",
       "    }\n",
       "\n",
       "    .dataframe tbody tr th {\n",
       "        vertical-align: top;\n",
       "    }\n",
       "\n",
       "    .dataframe thead th {\n",
       "        text-align: right;\n",
       "    }\n",
       "</style>\n",
       "<table border=\"1\" class=\"dataframe\">\n",
       "  <thead>\n",
       "    <tr style=\"text-align: right;\">\n",
       "      <th></th>\n",
       "      <th>EMG 1 STD</th>\n",
       "      <th>EMG 2 STD</th>\n",
       "      <th>EMG 3 STD</th>\n",
       "      <th>EMG 4 STD</th>\n",
       "      <th>EMG 5 STD</th>\n",
       "      <th>EMG 6 STD</th>\n",
       "      <th>EMG 7 STD</th>\n",
       "      <th>EMG 8 STD</th>\n",
       "      <th>EMG 1 MAX</th>\n",
       "      <th>EMG 2 MAX</th>\n",
       "      <th>...</th>\n",
       "      <th>EMG 8 AVG</th>\n",
       "      <th>EMG 1 RMS</th>\n",
       "      <th>EMG 2 RMS</th>\n",
       "      <th>EMG 3 RMS</th>\n",
       "      <th>EMG 4 RMS</th>\n",
       "      <th>EMG 5 RMS</th>\n",
       "      <th>EMG 6 RMS</th>\n",
       "      <th>EMG 7 RMS</th>\n",
       "      <th>EMG 8 RMS</th>\n",
       "      <th>eating</th>\n",
       "    </tr>\n",
       "  </thead>\n",
       "  <tbody>\n",
       "    <tr>\n",
       "      <td>107</td>\n",
       "      <td>6.095540</td>\n",
       "      <td>10.404620</td>\n",
       "      <td>7.387109</td>\n",
       "      <td>6.407693</td>\n",
       "      <td>7.028805</td>\n",
       "      <td>3.852282</td>\n",
       "      <td>3.344967</td>\n",
       "      <td>6.386664</td>\n",
       "      <td>92</td>\n",
       "      <td>98</td>\n",
       "      <td>...</td>\n",
       "      <td>3.721990</td>\n",
       "      <td>6.140282</td>\n",
       "      <td>10.427184</td>\n",
       "      <td>7.393582</td>\n",
       "      <td>6.497607</td>\n",
       "      <td>7.077117</td>\n",
       "      <td>3.934163</td>\n",
       "      <td>3.422149</td>\n",
       "      <td>6.441627</td>\n",
       "      <td>False</td>\n",
       "    </tr>\n",
       "    <tr>\n",
       "      <td>108</td>\n",
       "      <td>7.934144</td>\n",
       "      <td>9.042679</td>\n",
       "      <td>5.797945</td>\n",
       "      <td>3.145758</td>\n",
       "      <td>4.788647</td>\n",
       "      <td>2.540302</td>\n",
       "      <td>2.813888</td>\n",
       "      <td>11.214470</td>\n",
       "      <td>74</td>\n",
       "      <td>67</td>\n",
       "      <td>...</td>\n",
       "      <td>7.525323</td>\n",
       "      <td>7.964371</td>\n",
       "      <td>9.075527</td>\n",
       "      <td>5.843948</td>\n",
       "      <td>3.239374</td>\n",
       "      <td>4.853397</td>\n",
       "      <td>2.663132</td>\n",
       "      <td>2.926269</td>\n",
       "      <td>11.241464</td>\n",
       "      <td>True</td>\n",
       "    </tr>\n",
       "    <tr>\n",
       "      <td>109</td>\n",
       "      <td>6.636713</td>\n",
       "      <td>8.943604</td>\n",
       "      <td>5.553884</td>\n",
       "      <td>3.890602</td>\n",
       "      <td>6.185798</td>\n",
       "      <td>3.267127</td>\n",
       "      <td>2.683515</td>\n",
       "      <td>11.291536</td>\n",
       "      <td>64</td>\n",
       "      <td>127</td>\n",
       "      <td>...</td>\n",
       "      <td>6.086734</td>\n",
       "      <td>6.672530</td>\n",
       "      <td>8.984255</td>\n",
       "      <td>5.613555</td>\n",
       "      <td>3.970596</td>\n",
       "      <td>6.237409</td>\n",
       "      <td>3.357241</td>\n",
       "      <td>2.798290</td>\n",
       "      <td>11.314442</td>\n",
       "      <td>False</td>\n",
       "    </tr>\n",
       "    <tr>\n",
       "      <td>110</td>\n",
       "      <td>8.772692</td>\n",
       "      <td>9.234925</td>\n",
       "      <td>5.621809</td>\n",
       "      <td>3.376209</td>\n",
       "      <td>5.790983</td>\n",
       "      <td>2.921398</td>\n",
       "      <td>3.136510</td>\n",
       "      <td>13.836830</td>\n",
       "      <td>71</td>\n",
       "      <td>78</td>\n",
       "      <td>...</td>\n",
       "      <td>8.211947</td>\n",
       "      <td>8.797526</td>\n",
       "      <td>9.274788</td>\n",
       "      <td>5.675388</td>\n",
       "      <td>3.470172</td>\n",
       "      <td>5.851642</td>\n",
       "      <td>3.021571</td>\n",
       "      <td>3.234658</td>\n",
       "      <td>13.856522</td>\n",
       "      <td>True</td>\n",
       "    </tr>\n",
       "    <tr>\n",
       "      <td>111</td>\n",
       "      <td>6.517773</td>\n",
       "      <td>8.107521</td>\n",
       "      <td>5.225661</td>\n",
       "      <td>4.560541</td>\n",
       "      <td>14.729054</td>\n",
       "      <td>3.619572</td>\n",
       "      <td>2.908054</td>\n",
       "      <td>21.064570</td>\n",
       "      <td>113</td>\n",
       "      <td>125</td>\n",
       "      <td>...</td>\n",
       "      <td>11.000850</td>\n",
       "      <td>6.553288</td>\n",
       "      <td>8.150033</td>\n",
       "      <td>5.280362</td>\n",
       "      <td>4.632062</td>\n",
       "      <td>14.750735</td>\n",
       "      <td>3.701788</td>\n",
       "      <td>3.017135</td>\n",
       "      <td>21.076462</td>\n",
       "      <td>False</td>\n",
       "    </tr>\n",
       "  </tbody>\n",
       "</table>\n",
       "<p>5 rows × 41 columns</p>\n",
       "</div>"
      ],
      "text/plain": [
       "     EMG 1 STD  EMG 2 STD  EMG 3 STD  EMG 4 STD  EMG 5 STD  EMG 6 STD  \\\n",
       "107   6.095540  10.404620   7.387109   6.407693   7.028805   3.852282   \n",
       "108   7.934144   9.042679   5.797945   3.145758   4.788647   2.540302   \n",
       "109   6.636713   8.943604   5.553884   3.890602   6.185798   3.267127   \n",
       "110   8.772692   9.234925   5.621809   3.376209   5.790983   2.921398   \n",
       "111   6.517773   8.107521   5.225661   4.560541  14.729054   3.619572   \n",
       "\n",
       "     EMG 7 STD  EMG 8 STD  EMG 1 MAX  EMG 2 MAX  ...  EMG 8 AVG  EMG 1 RMS  \\\n",
       "107   3.344967   6.386664         92         98  ...   3.721990   6.140282   \n",
       "108   2.813888  11.214470         74         67  ...   7.525323   7.964371   \n",
       "109   2.683515  11.291536         64        127  ...   6.086734   6.672530   \n",
       "110   3.136510  13.836830         71         78  ...   8.211947   8.797526   \n",
       "111   2.908054  21.064570        113        125  ...  11.000850   6.553288   \n",
       "\n",
       "     EMG 2 RMS  EMG 3 RMS  EMG 4 RMS  EMG 5 RMS  EMG 6 RMS  EMG 7 RMS  \\\n",
       "107  10.427184   7.393582   6.497607   7.077117   3.934163   3.422149   \n",
       "108   9.075527   5.843948   3.239374   4.853397   2.663132   2.926269   \n",
       "109   8.984255   5.613555   3.970596   6.237409   3.357241   2.798290   \n",
       "110   9.274788   5.675388   3.470172   5.851642   3.021571   3.234658   \n",
       "111   8.150033   5.280362   4.632062  14.750735   3.701788   3.017135   \n",
       "\n",
       "     EMG 8 RMS  eating  \n",
       "107   6.441627   False  \n",
       "108  11.241464    True  \n",
       "109  11.314442   False  \n",
       "110  13.856522    True  \n",
       "111  21.076462   False  \n",
       "\n",
       "[5 rows x 41 columns]"
      ]
     },
     "execution_count": 283,
     "metadata": {},
     "output_type": "execute_result"
    }
   ],
   "source": [
    "feature_df\n",
    "backup_feature_df = feature_df\n",
    "backup_feature_df.tail()"
   ]
  },
  {
   "cell_type": "markdown",
   "metadata": {},
   "source": [
    "# Make the feature matrix"
   ]
  },
  {
   "cell_type": "code",
   "execution_count": null,
   "metadata": {},
   "outputs": [],
   "source": [
    "# total_samples = 2*df1.shape[0]\n",
    "feature_df = pd.DataFrame() \n",
    "feature_df['min'] = ((data_df.iloc[:,1:-1]).abs().min(1))\n",
    "feature_df['max'] = ((data_df.iloc[:,1:-1]).abs().max(1))\n",
    "feature_df['STD'] = ((data_df.iloc[:,1:-1]).std(1))\n",
    "feature_df['AVG'] = (data_df.iloc[:,1:-1]).abs().mean(1)\n",
    "feature_df['RMS'] = (((data_df.iloc[:,1:-1]**2).sum(1))/8).pow(1/2)\n",
    "def get_data_df(df1,df2):\n",
    "    return df1.append(df2, ignore_index=True)\n",
    "\n",
    "def get_feature_df(df1, data_df):\n",
    "    total_samples = 2*df1.shape[0]\n",
    "    feature_df = pd.DataFrame() \n",
    "    feature_df['min'] = ((data_df.iloc[:,1:-1]).abs().min(1))\n",
    "    feature_df['max'] = ((data_df.iloc[:,1:-1]).abs().max(1))\n",
    "    feature_df['STD'] = ((data_df.iloc[:,1:-1]).std(1))\n",
    "    feature_df['AVG'] = (data_df.iloc[:,1:-1]).abs().mean(1)\n",
    "    feature_df['RMS'] = (((data_df.iloc[:,1:-1]**2).sum(1))/8).pow(1/2)\n",
    "    return feature_df"
   ]
  },
  {
   "cell_type": "markdown",
   "metadata": {},
   "source": [
    "# PCA"
   ]
  },
  {
   "cell_type": "code",
   "execution_count": 222,
   "metadata": {},
   "outputs": [],
   "source": [
    "from sklearn.decomposition import PCA\n",
    "from sklearn.preprocessing import StandardScaler"
   ]
  },
  {
   "cell_type": "code",
   "execution_count": 483,
   "metadata": {},
   "outputs": [],
   "source": [
    "# pca = PCA()\n",
    "# pca.fit(X)\n",
    "# pca.explained_variance_ratio_\n",
    "# pca.explained_variance_\n",
    "# eigenvalues = pca.explained_variance_\n",
    "# eigenvectors = pca.components_\n",
    "# X.dot(eigenvectors[0])\n",
    "# #plt.plot(eigenvectors[0])\n",
    "# #plt.show()\n",
    "# X.dot(eigenvectors[0])\n",
    "#pca_2 = PCA()\n",
    "#principalComponents = pca_2.fit_transform(X_std)\n",
    "#pd.DataFrame(data=principalComponents)#, columns = ['PC 1', 'PC 2', 'PC 3', 'PC 4', 'PC 5'])"
   ]
  },
  {
   "cell_type": "code",
   "execution_count": 501,
   "metadata": {},
   "outputs": [],
   "source": [
    "#data_df = get_data_df(df1,df2)\n",
    "#feature_df = get_feature_df(df1, data_df)\n",
    "\n",
    "X = feature_df.iloc[:,:-1]\n",
    "X_std = StandardScaler().fit_transform(feature_df.iloc[:,:-1])\n"
   ]
  },
  {
   "cell_type": "code",
   "execution_count": 509,
   "metadata": {},
   "outputs": [],
   "source": [
    "cov_mat = np.cov(X_std.T)\n",
    "\n",
    "eig_vals, eig_vecs = np.linalg.eig(cov_mat)\n",
    "\n",
    "#print('Eigenvectors \\n%s' %eig_vecs)\n",
    "#print('\\nEigenvalues \\n%s' %eig_vals)"
   ]
  },
  {
   "cell_type": "code",
   "execution_count": 510,
   "metadata": {},
   "outputs": [
    {
     "name": "stdout",
     "output_type": "stream",
     "text": [
      "Eigenvalues in descending order:\n",
      "17.47074121599448\n",
      "4.999645682688501\n",
      "4.26169465827622\n",
      "2.7284384459948985\n",
      "2.409274556291415\n",
      "2.0279670748440624\n",
      "1.4524024352456937\n",
      "0.8007890569774897\n",
      "0.7066114742562303\n",
      "0.5619543279933875\n",
      "0.5414868947842081\n",
      "0.4798327057157851\n",
      "0.3709918037549543\n",
      "0.33326217543229053\n",
      "0.25432257264361036\n",
      "0.18390906063763005\n",
      "0.14926798431255317\n",
      "0.13092573039638405\n",
      "0.09600845211523774\n",
      "0.07625809283023435\n",
      "0.06576515315361499\n",
      "0.05522177133888863\n",
      "0.05208026783901775\n",
      "0.04261469513660253\n",
      "0.026939960593782092\n",
      "0.024548022789852547\n",
      "0.016928634614808195\n",
      "0.013184716579245163\n",
      "0.009773080910776772\n",
      "0.008813249852217524\n",
      "0.005313355087020021\n",
      "0.003333131195161883\n",
      "2.358285819705672e-05\n",
      "1.552179637888672e-05\n",
      "8.68974684965174e-06\n",
      "5.109488823304407e-06\n",
      "3.874042395673518e-06\n",
      "1.5249871159580302e-06\n",
      "9.725369521701334e-07\n",
      "6.446274088919479e-07\n"
     ]
    }
   ],
   "source": [
    "# Make a list of (eigenvalue, eigenvector) tuples\n",
    "eig_pairs = [(np.abs(eig_vals[i]), eig_vecs[:,i]) for i in range(len(eig_vals))]\n",
    "\n",
    "# Sort the (eigenvalue, eigenvector) tuples from high to low\n",
    "eig_pairs.sort(key=lambda x: x[0], reverse=True)\n",
    "\n",
    "# Visually confirm that the list is correctly sorted by decreasing eigenvalues\n",
    "print('Eigenvalues in descending order:')\n",
    "for i in eig_pairs:\n",
    "    print(i[0])"
   ]
  },
  {
   "cell_type": "code",
   "execution_count": 511,
   "metadata": {},
   "outputs": [],
   "source": [
    "tot = sum(eig_vals)\n",
    "var_exp = [(i / tot)*100 for i in sorted(eig_vals, reverse=True)]\n",
    "cum_var_exp = np.cumsum(var_exp)"
   ]
  },
  {
   "cell_type": "code",
   "execution_count": 512,
   "metadata": {},
   "outputs": [
    {
     "data": {
      "image/png": "[encoded data removed]",
      "text/plain": [
       "<Figure size 720x576 with 1 Axes>"
      ]
     },
     "metadata": {},
     "output_type": "display_data"
    }
   ],
   "source": [
    "with plt.style.context('seaborn-whitegrid'):\n",
    "    plt.figure(figsize=(10, 8))\n",
    "\n",
    "    plt.bar(range(40), var_exp, alpha=0.5, align='center',label='individual explained variance')\n",
    "    plt.step(range(40), cum_var_exp, where='mid',label='cumulative explained variance')\n",
    "    plt.ylabel('Explained variance ratio')\n",
    "    plt.xlabel('Principal components')\n",
    "    plt.legend(loc='best')\n",
    "    plt.tight_layout()"
   ]
  },
  {
   "cell_type": "code",
   "execution_count": 513,
   "metadata": {},
   "outputs": [
    {
     "name": "stdout",
     "output_type": "stream",
     "text": [
      "Matrix W:\n",
      " [[ 0.09804676  0.19134911]\n",
      " [ 0.12288688  0.26673564]\n",
      " [ 0.17899948  0.08259606]\n",
      " [ 0.17513228 -0.19135481]\n",
      " [ 0.18898155 -0.08470415]\n",
      " [ 0.19838327 -0.15682839]\n",
      " [ 0.19023351 -0.16098503]\n",
      " [ 0.16191414 -0.11888042]\n",
      " [ 0.15330023  0.14896422]\n",
      " [ 0.13992379  0.20577595]\n",
      " [ 0.15333687  0.12827687]\n",
      " [ 0.16198967 -0.00206179]\n",
      " [ 0.16212339  0.12555752]\n",
      " [ 0.17477784  0.07443877]\n",
      " [ 0.17931781  0.02928373]\n",
      " [ 0.119433    0.03068128]\n",
      " [-0.14735847 -0.15804313]\n",
      " [-0.1553931  -0.20279497]\n",
      " [-0.16204222 -0.12009709]\n",
      " [-0.16026237 -0.03628834]\n",
      " [-0.15571911 -0.15401645]\n",
      " [-0.17287565 -0.10423287]\n",
      " [-0.1874676  -0.01043032]\n",
      " [-0.11820963  0.00606164]\n",
      " [ 0.07841523  0.18067498]\n",
      " [ 0.08295147  0.27068439]\n",
      " [ 0.14042318  0.09410661]\n",
      " [ 0.15170431 -0.23028025]\n",
      " [ 0.17027309 -0.15767928]\n",
      " [ 0.15613262 -0.2362271 ]\n",
      " [ 0.14421619 -0.24513699]\n",
      " [ 0.15308942 -0.15470904]\n",
      " [ 0.09801316  0.1913525 ]\n",
      " [ 0.1228616   0.26680244]\n",
      " [ 0.17909927  0.0824257 ]\n",
      " [ 0.17488601 -0.1921266 ]\n",
      " [ 0.1887259  -0.0847058 ]\n",
      " [ 0.19807162 -0.15776173]\n",
      " [ 0.1901375  -0.16150461]\n",
      " [ 0.16194857 -0.11900596]]\n"
     ]
    }
   ],
   "source": [
    "matrix_w = np.hstack((eig_pairs[0][1].reshape(40,1),\n",
    "                      eig_pairs[1][1].reshape(40,1)))\n",
    "\n",
    "print('Matrix W:\\n', matrix_w)"
   ]
  },
  {
   "cell_type": "code",
   "execution_count": 516,
   "metadata": {},
   "outputs": [
    {
     "data": {
      "text/plain": [
       "array([-4.40178545, -1.70503626])"
      ]
     },
     "execution_count": 516,
     "metadata": {},
     "output_type": "execute_result"
    }
   ],
   "source": [
    "#y = data_df.iloc[:,-1]\n",
    "y = feature_df.iloc[:,-1]\n",
    "#y == False\n",
    "Y = X_std.dot(matrix_w)\n",
    "Y[0]"
   ]
  },
  {
   "cell_type": "code",
   "execution_count": 452,
   "metadata": {},
   "outputs": [
    {
     "data": {
      "image/png": "[encoded data removed]",
      "text/plain": [
       "<Figure size 576x432 with 1 Axes>"
      ]
     },
     "metadata": {},
     "output_type": "display_data"
    }
   ],
   "source": [
    "\n",
    "with plt.style.context('seaborn-whitegrid'):\n",
    "    plt.figure(figsize=(8, 6))\n",
    "    for lab, color in zip((True, False),\n",
    "                        ('blue', 'red')):\n",
    "        \n",
    "        plt.scatter(Y[y==lab, 0],\n",
    "                    Y[y==lab, 1],\n",
    "                    label=lab,\n",
    "                    c=color,\n",
    "                    s=10)\n",
    "                   \n",
    "    plt.xlabel('Principal Component 1')\n",
    "    plt.ylabel('Principal Component 2')\n",
    "    plt.legend(loc='lower left')\n",
    "    plt.tight_layout()\n",
    "    plt.show()"
   ]
  },
  {
   "cell_type": "code",
   "execution_count": 518,
   "metadata": {},
   "outputs": [
    {
     "data": {
      "image/png": "[encoded data removed]",
      "text/plain": [
       "<Figure size 576x432 with 1 Axes>"
      ]
     },
     "metadata": {},
     "output_type": "display_data"
    }
   ],
   "source": [
    "from sklearn.decomposition import PCA as sklearnPCA\n",
    "sklearn_pca = sklearnPCA(n_components=2)\n",
    "Y_sklearn = sklearn_pca.fit_transform(X_std)\n",
    "\n",
    "with plt.style.context('seaborn-whitegrid'):\n",
    "    plt.figure(figsize=(8, 6))\n",
    "    for lab, col in zip((True,False),\n",
    "                        ('blue','red')):\n",
    "        plt.scatter(Y_sklearn[y==lab, 0],\n",
    "                    Y_sklearn[y==lab, 1],\n",
    "                    label=lab,\n",
    "                    c=col,\n",
    "                    s=20)\n",
    "    plt.xlabel('Principal Component 1')\n",
    "    plt.ylabel('Principal Component 2')\n",
    "    plt.legend(loc='lower left')\n",
    "    plt.tight_layout()\n",
    "    plt.show()"
   ]
  },
  {
   "cell_type": "code",
   "execution_count": 454,
   "metadata": {},
   "outputs": [
    {
     "data": {
      "image/png": "[encoded data removed]",
      "text/plain": [
       "<Figure size 864x720 with 1 Axes>"
      ]
     },
     "metadata": {
      "needs_background": "light"
     },
     "output_type": "display_data"
    }
   ],
   "source": [
    "from mpl_toolkits.mplot3d import Axes3D\n",
    "sklearn_pca = sklearnPCA(n_components=3)\n",
    "Y_sklearn = sklearn_pca.fit_transform(X_std)\n",
    "\n",
    "fig = plt.figure(figsize=(12,10))\n",
    "\n",
    "ax = fig.add_subplot(111, projection='3d')\n",
    "\n",
    "for lab, col in zip((True,False),\n",
    "                        ('blue','red')):\n",
    "        ax.scatter(Y_sklearn[y==lab, 0],\n",
    "                    Y_sklearn[y==lab, 1],\n",
    "                    Y_sklearn[y==lab, 2],\n",
    "                    label=lab,\n",
    "                    c=col)\n",
    "\n",
    "#ax.scatter(x, y, z, c='r', marker='o')\n",
    "\n",
    "ax.set_xlabel('Principal Component 1')\n",
    "ax.set_ylabel('Principal Component 2')\n",
    "ax.set_zlabel('Principal Component 3')\n",
    "\n",
    "plt.show()\n"
   ]
  },
  {
   "cell_type": "code",
   "execution_count": null,
   "metadata": {},
   "outputs": [],
   "source": []
  },
  {
   "cell_type": "code",
   "execution_count": 566,
   "metadata": {},
   "outputs": [],
   "source": [
    "sklearn_pca = sklearnPCA(n_components=2)\n",
    "#Y_sklearn = sklearn_pca.fit_transform(X_std)\n",
    "Y_sklearn_test = sklearn_pca.fit(X_std)\n",
    "Y_sklearn_test_transform = sklearn_pca.transform(X_std)"
   ]
  },
  {
   "cell_type": "code",
   "execution_count": 576,
   "metadata": {},
   "outputs": [],
   "source": [
    "Y_sklearn_test\n",
    "#Y_sklearn_test.explained_variance_ratio_\n",
    "#Y_sklearn_test.explained_variance_\n",
    "#eigenvalues = Y_sklearn_test.explained_variance_\n",
    "eigenvectors = Y_sklearn_test.components_\n",
    "\n",
    "matrix_w_test = np.hstack((eigenvectors[0].reshape(40,1),\n",
    "                      eigenvectors[1].reshape(40,1)))\n",
    "\n",
    "#print('Matrix W:\\n', matrix_w_test)\n",
    "\n",
    "#X_std.dot(matrix_w)\n",
    "cov_mat_test = np.cov(X_std.T)\n",
    "eig_vals_test, eig_vecs_test = np.linalg.eigh(cov_mat_test)\n",
    "eig_pairs_test = [(eig_vals_test[i], eig_vecs_test[:,i]) for i in range(len(eig_vals_test))]\n",
    "\n",
    "# Sort the (eigenvalue, eigenvector) tuples from high to low\n",
    "eig_pairs_test.sort(key=lambda x: x[0], reverse=True)"
   ]
  },
  {
   "cell_type": "code",
   "execution_count": 577,
   "metadata": {},
   "outputs": [
    {
     "data": {
      "text/plain": [
       "array([ 0.19134911,  0.26673564,  0.08259606, -0.19135481, -0.08470415,\n",
       "       -0.15682839, -0.16098503, -0.11888042,  0.14896422,  0.20577595,\n",
       "        0.12827687, -0.00206179,  0.12555752,  0.07443877,  0.02928373,\n",
       "        0.03068128, -0.15804313, -0.20279497, -0.12009709, -0.03628834,\n",
       "       -0.15401645, -0.10423287, -0.01043032,  0.00606164,  0.18067498,\n",
       "        0.27068439,  0.09410661, -0.23028025, -0.15767928, -0.2362271 ,\n",
       "       -0.24513699, -0.15470904,  0.1913525 ,  0.26680244,  0.0824257 ,\n",
       "       -0.1921266 , -0.0847058 , -0.15776173, -0.16150461, -0.11900596])"
      ]
     },
     "execution_count": 577,
     "metadata": {},
     "output_type": "execute_result"
    }
   ],
   "source": [
    "eig_pairs_test[1][1]"
   ]
  },
  {
   "cell_type": "code",
   "execution_count": 569,
   "metadata": {},
   "outputs": [
    {
     "data": {
      "text/plain": [
       "array([-0.19134911, -0.26673564, -0.08259606,  0.19135481,  0.08470415,\n",
       "        0.15682839,  0.16098503,  0.11888042, -0.14896422, -0.20577595,\n",
       "       -0.12827687,  0.00206179, -0.12555752, -0.07443877, -0.02928373,\n",
       "       -0.03068128,  0.15804313,  0.20279497,  0.12009709,  0.03628834,\n",
       "        0.15401645,  0.10423287,  0.01043032, -0.00606164, -0.18067498,\n",
       "       -0.27068439, -0.09410661,  0.23028025,  0.15767928,  0.2362271 ,\n",
       "        0.24513699,  0.15470904, -0.1913525 , -0.26680244, -0.0824257 ,\n",
       "        0.1921266 ,  0.0847058 ,  0.15776173,  0.16150461,  0.11900596])"
      ]
     },
     "execution_count": 569,
     "metadata": {},
     "output_type": "execute_result"
    }
   ],
   "source": [
    "eigenvectors[1]"
   ]
  },
  {
   "cell_type": "code",
   "execution_count": 447,
   "metadata": {},
   "outputs": [
    {
     "data": {
      "text/plain": [
       "array([-4.40178545,  1.70503626, -0.71479164])"
      ]
     },
     "execution_count": 447,
     "metadata": {},
     "output_type": "execute_result"
    }
   ],
   "source": [
    "Y_sklearn[0]"
   ]
  },
  {
   "cell_type": "code",
   "execution_count": 449,
   "metadata": {},
   "outputs": [
    {
     "data": {
      "text/plain": [
       "array([-4.40178545, -1.70503626])"
      ]
     },
     "execution_count": 449,
     "metadata": {},
     "output_type": "execute_result"
    }
   ],
   "source": [
    "Y[0]"
   ]
  },
  {
   "cell_type": "code",
   "execution_count": 482,
   "metadata": {},
   "outputs": [
    {
     "data": {
      "text/plain": [
       "array([-4.40178545,  1.70503626, -0.71479164])"
      ]
     },
     "execution_count": 482,
     "metadata": {},
     "output_type": "execute_result"
    }
   ],
   "source": [
    "Y_sklearn_test_transform[0]"
   ]
  },
  {
   "cell_type": "code",
   "execution_count": null,
   "metadata": {},
   "outputs": [],
   "source": []
  },
  {
   "cell_type": "code",
   "execution_count": 415,
   "metadata": {},
   "outputs": [
    {
     "data": {
      "text/html": [
       "<style  type=\"text/css\" >\n",
       "    #T_235e8590_4d3e_11ea_bd22_f5545c085b68row0_col0 {\n",
       "            background-color:  #023858;\n",
       "            color:  #f1f1f1;\n",
       "        }    #T_235e8590_4d3e_11ea_bd22_f5545c085b68row1_col0 {\n",
       "            background-color:  #023858;\n",
       "            color:  #f1f1f1;\n",
       "        }    #T_235e8590_4d3e_11ea_bd22_f5545c085b68row2_col0 {\n",
       "            background-color:  #023d60;\n",
       "            color:  #f1f1f1;\n",
       "        }    #T_235e8590_4d3e_11ea_bd22_f5545c085b68row3_col0 {\n",
       "            background-color:  #023d60;\n",
       "            color:  #f1f1f1;\n",
       "        }    #T_235e8590_4d3e_11ea_bd22_f5545c085b68row4_col0 {\n",
       "            background-color:  #023e62;\n",
       "            color:  #f1f1f1;\n",
       "        }    #T_235e8590_4d3e_11ea_bd22_f5545c085b68row5_col0 {\n",
       "            background-color:  #023e62;\n",
       "            color:  #f1f1f1;\n",
       "        }    #T_235e8590_4d3e_11ea_bd22_f5545c085b68row6_col0 {\n",
       "            background-color:  #03456c;\n",
       "            color:  #f1f1f1;\n",
       "        }    #T_235e8590_4d3e_11ea_bd22_f5545c085b68row7_col0 {\n",
       "            background-color:  #03456c;\n",
       "            color:  #f1f1f1;\n",
       "        }    #T_235e8590_4d3e_11ea_bd22_f5545c085b68row8_col0 {\n",
       "            background-color:  #03456c;\n",
       "            color:  #f1f1f1;\n",
       "        }    #T_235e8590_4d3e_11ea_bd22_f5545c085b68row9_col0 {\n",
       "            background-color:  #034871;\n",
       "            color:  #f1f1f1;\n",
       "        }    #T_235e8590_4d3e_11ea_bd22_f5545c085b68row10_col0 {\n",
       "            background-color:  #034871;\n",
       "            color:  #f1f1f1;\n",
       "        }    #T_235e8590_4d3e_11ea_bd22_f5545c085b68row11_col0 {\n",
       "            background-color:  #034871;\n",
       "            color:  #f1f1f1;\n",
       "        }    #T_235e8590_4d3e_11ea_bd22_f5545c085b68row12_col0 {\n",
       "            background-color:  #034b76;\n",
       "            color:  #f1f1f1;\n",
       "        }    #T_235e8590_4d3e_11ea_bd22_f5545c085b68row13_col0 {\n",
       "            background-color:  #045280;\n",
       "            color:  #f1f1f1;\n",
       "        }    #T_235e8590_4d3e_11ea_bd22_f5545c085b68row14_col0 {\n",
       "            background-color:  #045280;\n",
       "            color:  #f1f1f1;\n",
       "        }    #T_235e8590_4d3e_11ea_bd22_f5545c085b68row15_col0 {\n",
       "            background-color:  #045280;\n",
       "            color:  #f1f1f1;\n",
       "        }    #T_235e8590_4d3e_11ea_bd22_f5545c085b68row16_col0 {\n",
       "            background-color:  #045280;\n",
       "            color:  #f1f1f1;\n",
       "        }    #T_235e8590_4d3e_11ea_bd22_f5545c085b68row17_col0 {\n",
       "            background-color:  #045687;\n",
       "            color:  #f1f1f1;\n",
       "        }    #T_235e8590_4d3e_11ea_bd22_f5545c085b68row18_col0 {\n",
       "            background-color:  #045788;\n",
       "            color:  #f1f1f1;\n",
       "        }    #T_235e8590_4d3e_11ea_bd22_f5545c085b68row19_col0 {\n",
       "            background-color:  #045788;\n",
       "            color:  #f1f1f1;\n",
       "        }    #T_235e8590_4d3e_11ea_bd22_f5545c085b68row20_col0 {\n",
       "            background-color:  #04588a;\n",
       "            color:  #f1f1f1;\n",
       "        }    #T_235e8590_4d3e_11ea_bd22_f5545c085b68row21_col0 {\n",
       "            background-color:  #04588a;\n",
       "            color:  #f1f1f1;\n",
       "        }    #T_235e8590_4d3e_11ea_bd22_f5545c085b68row22_col0 {\n",
       "            background-color:  #045c90;\n",
       "            color:  #f1f1f1;\n",
       "        }    #T_235e8590_4d3e_11ea_bd22_f5545c085b68row23_col0 {\n",
       "            background-color:  #045e94;\n",
       "            color:  #f1f1f1;\n",
       "        }    #T_235e8590_4d3e_11ea_bd22_f5545c085b68row24_col0 {\n",
       "            background-color:  #045e94;\n",
       "            color:  #f1f1f1;\n",
       "        }    #T_235e8590_4d3e_11ea_bd22_f5545c085b68row25_col0 {\n",
       "            background-color:  #0567a1;\n",
       "            color:  #f1f1f1;\n",
       "        }    #T_235e8590_4d3e_11ea_bd22_f5545c085b68row26_col0 {\n",
       "            background-color:  #0567a1;\n",
       "            color:  #f1f1f1;\n",
       "        }    #T_235e8590_4d3e_11ea_bd22_f5545c085b68row27_col0 {\n",
       "            background-color:  #0568a3;\n",
       "            color:  #f1f1f1;\n",
       "        }    #T_235e8590_4d3e_11ea_bd22_f5545c085b68row28_col0 {\n",
       "            background-color:  #0872b1;\n",
       "            color:  #f1f1f1;\n",
       "        }    #T_235e8590_4d3e_11ea_bd22_f5545c085b68row29_col0 {\n",
       "            background-color:  #0872b1;\n",
       "            color:  #f1f1f1;\n",
       "        }    #T_235e8590_4d3e_11ea_bd22_f5545c085b68row30_col0 {\n",
       "            background-color:  #187cb6;\n",
       "            color:  #000000;\n",
       "        }    #T_235e8590_4d3e_11ea_bd22_f5545c085b68row31_col0 {\n",
       "            background-color:  #1c7fb8;\n",
       "            color:  #000000;\n",
       "        }    #T_235e8590_4d3e_11ea_bd22_f5545c085b68row32_col0 {\n",
       "            background-color:  #e0deed;\n",
       "            color:  #000000;\n",
       "        }    #T_235e8590_4d3e_11ea_bd22_f5545c085b68row33_col0 {\n",
       "            background-color:  #f0eaf4;\n",
       "            color:  #000000;\n",
       "        }    #T_235e8590_4d3e_11ea_bd22_f5545c085b68row34_col0 {\n",
       "            background-color:  #f2ecf5;\n",
       "            color:  #000000;\n",
       "        }    #T_235e8590_4d3e_11ea_bd22_f5545c085b68row35_col0 {\n",
       "            background-color:  #f2ecf5;\n",
       "            color:  #000000;\n",
       "        }    #T_235e8590_4d3e_11ea_bd22_f5545c085b68row36_col0 {\n",
       "            background-color:  #f4eef6;\n",
       "            color:  #000000;\n",
       "        }    #T_235e8590_4d3e_11ea_bd22_f5545c085b68row37_col0 {\n",
       "            background-color:  #f5eff6;\n",
       "            color:  #000000;\n",
       "        }    #T_235e8590_4d3e_11ea_bd22_f5545c085b68row38_col0 {\n",
       "            background-color:  #faf2f8;\n",
       "            color:  #000000;\n",
       "        }    #T_235e8590_4d3e_11ea_bd22_f5545c085b68row39_col0 {\n",
       "            background-color:  #fff7fb;\n",
       "            color:  #000000;\n",
       "        }</style><table id=\"T_235e8590_4d3e_11ea_bd22_f5545c085b68\" ><thead>    <tr>        <th class=\"blank level0\" ></th>        <th class=\"col_heading level0 col0\" >0</th>    </tr></thead><tbody>\n",
       "                <tr>\n",
       "                        <th id=\"T_235e8590_4d3e_11ea_bd22_f5545c085b68level0_row0\" class=\"row_heading level0 row0\" >EMG 6 STD</th>\n",
       "                        <td id=\"T_235e8590_4d3e_11ea_bd22_f5545c085b68row0_col0\" class=\"data row0 col0\" >0.198383</td>\n",
       "            </tr>\n",
       "            <tr>\n",
       "                        <th id=\"T_235e8590_4d3e_11ea_bd22_f5545c085b68level0_row1\" class=\"row_heading level0 row1\" >EMG 6 RMS</th>\n",
       "                        <td id=\"T_235e8590_4d3e_11ea_bd22_f5545c085b68row1_col0\" class=\"data row1 col0\" >0.198072</td>\n",
       "            </tr>\n",
       "            <tr>\n",
       "                        <th id=\"T_235e8590_4d3e_11ea_bd22_f5545c085b68level0_row2\" class=\"row_heading level0 row2\" >EMG 7 STD</th>\n",
       "                        <td id=\"T_235e8590_4d3e_11ea_bd22_f5545c085b68row2_col0\" class=\"data row2 col0\" >0.190234</td>\n",
       "            </tr>\n",
       "            <tr>\n",
       "                        <th id=\"T_235e8590_4d3e_11ea_bd22_f5545c085b68level0_row3\" class=\"row_heading level0 row3\" >EMG 7 RMS</th>\n",
       "                        <td id=\"T_235e8590_4d3e_11ea_bd22_f5545c085b68row3_col0\" class=\"data row3 col0\" >0.190138</td>\n",
       "            </tr>\n",
       "            <tr>\n",
       "                        <th id=\"T_235e8590_4d3e_11ea_bd22_f5545c085b68level0_row4\" class=\"row_heading level0 row4\" >EMG 5 STD</th>\n",
       "                        <td id=\"T_235e8590_4d3e_11ea_bd22_f5545c085b68row4_col0\" class=\"data row4 col0\" >0.188982</td>\n",
       "            </tr>\n",
       "            <tr>\n",
       "                        <th id=\"T_235e8590_4d3e_11ea_bd22_f5545c085b68level0_row5\" class=\"row_heading level0 row5\" >EMG 5 RMS</th>\n",
       "                        <td id=\"T_235e8590_4d3e_11ea_bd22_f5545c085b68row5_col0\" class=\"data row5 col0\" >0.188726</td>\n",
       "            </tr>\n",
       "            <tr>\n",
       "                        <th id=\"T_235e8590_4d3e_11ea_bd22_f5545c085b68level0_row6\" class=\"row_heading level0 row6\" >EMG 7 MAX</th>\n",
       "                        <td id=\"T_235e8590_4d3e_11ea_bd22_f5545c085b68row6_col0\" class=\"data row6 col0\" >0.179318</td>\n",
       "            </tr>\n",
       "            <tr>\n",
       "                        <th id=\"T_235e8590_4d3e_11ea_bd22_f5545c085b68level0_row7\" class=\"row_heading level0 row7\" >EMG 3 RMS</th>\n",
       "                        <td id=\"T_235e8590_4d3e_11ea_bd22_f5545c085b68row7_col0\" class=\"data row7 col0\" >0.179099</td>\n",
       "            </tr>\n",
       "            <tr>\n",
       "                        <th id=\"T_235e8590_4d3e_11ea_bd22_f5545c085b68level0_row8\" class=\"row_heading level0 row8\" >EMG 3 STD</th>\n",
       "                        <td id=\"T_235e8590_4d3e_11ea_bd22_f5545c085b68row8_col0\" class=\"data row8 col0\" >0.178999</td>\n",
       "            </tr>\n",
       "            <tr>\n",
       "                        <th id=\"T_235e8590_4d3e_11ea_bd22_f5545c085b68level0_row9\" class=\"row_heading level0 row9\" >EMG 4 STD</th>\n",
       "                        <td id=\"T_235e8590_4d3e_11ea_bd22_f5545c085b68row9_col0\" class=\"data row9 col0\" >0.175132</td>\n",
       "            </tr>\n",
       "            <tr>\n",
       "                        <th id=\"T_235e8590_4d3e_11ea_bd22_f5545c085b68level0_row10\" class=\"row_heading level0 row10\" >EMG 4 RMS</th>\n",
       "                        <td id=\"T_235e8590_4d3e_11ea_bd22_f5545c085b68row10_col0\" class=\"data row10 col0\" >0.174886</td>\n",
       "            </tr>\n",
       "            <tr>\n",
       "                        <th id=\"T_235e8590_4d3e_11ea_bd22_f5545c085b68level0_row11\" class=\"row_heading level0 row11\" >EMG 6 MAX</th>\n",
       "                        <td id=\"T_235e8590_4d3e_11ea_bd22_f5545c085b68row11_col0\" class=\"data row11 col0\" >0.174778</td>\n",
       "            </tr>\n",
       "            <tr>\n",
       "                        <th id=\"T_235e8590_4d3e_11ea_bd22_f5545c085b68level0_row12\" class=\"row_heading level0 row12\" >EMG 5 AVG</th>\n",
       "                        <td id=\"T_235e8590_4d3e_11ea_bd22_f5545c085b68row12_col0\" class=\"data row12 col0\" >0.170273</td>\n",
       "            </tr>\n",
       "            <tr>\n",
       "                        <th id=\"T_235e8590_4d3e_11ea_bd22_f5545c085b68level0_row13\" class=\"row_heading level0 row13\" >EMG 5 MAX</th>\n",
       "                        <td id=\"T_235e8590_4d3e_11ea_bd22_f5545c085b68row13_col0\" class=\"data row13 col0\" >0.162123</td>\n",
       "            </tr>\n",
       "            <tr>\n",
       "                        <th id=\"T_235e8590_4d3e_11ea_bd22_f5545c085b68level0_row14\" class=\"row_heading level0 row14\" >EMG 4 MAX</th>\n",
       "                        <td id=\"T_235e8590_4d3e_11ea_bd22_f5545c085b68row14_col0\" class=\"data row14 col0\" >0.16199</td>\n",
       "            </tr>\n",
       "            <tr>\n",
       "                        <th id=\"T_235e8590_4d3e_11ea_bd22_f5545c085b68level0_row15\" class=\"row_heading level0 row15\" >EMG 8 RMS</th>\n",
       "                        <td id=\"T_235e8590_4d3e_11ea_bd22_f5545c085b68row15_col0\" class=\"data row15 col0\" >0.161949</td>\n",
       "            </tr>\n",
       "            <tr>\n",
       "                        <th id=\"T_235e8590_4d3e_11ea_bd22_f5545c085b68level0_row16\" class=\"row_heading level0 row16\" >EMG 8 STD</th>\n",
       "                        <td id=\"T_235e8590_4d3e_11ea_bd22_f5545c085b68row16_col0\" class=\"data row16 col0\" >0.161914</td>\n",
       "            </tr>\n",
       "            <tr>\n",
       "                        <th id=\"T_235e8590_4d3e_11ea_bd22_f5545c085b68level0_row17\" class=\"row_heading level0 row17\" >EMG 6 AVG</th>\n",
       "                        <td id=\"T_235e8590_4d3e_11ea_bd22_f5545c085b68row17_col0\" class=\"data row17 col0\" >0.156133</td>\n",
       "            </tr>\n",
       "            <tr>\n",
       "                        <th id=\"T_235e8590_4d3e_11ea_bd22_f5545c085b68level0_row18\" class=\"row_heading level0 row18\" >EMG 3 MAX</th>\n",
       "                        <td id=\"T_235e8590_4d3e_11ea_bd22_f5545c085b68row18_col0\" class=\"data row18 col0\" >0.153337</td>\n",
       "            </tr>\n",
       "            <tr>\n",
       "                        <th id=\"T_235e8590_4d3e_11ea_bd22_f5545c085b68level0_row19\" class=\"row_heading level0 row19\" >EMG 1 MAX</th>\n",
       "                        <td id=\"T_235e8590_4d3e_11ea_bd22_f5545c085b68row19_col0\" class=\"data row19 col0\" >0.1533</td>\n",
       "            </tr>\n",
       "            <tr>\n",
       "                        <th id=\"T_235e8590_4d3e_11ea_bd22_f5545c085b68level0_row20\" class=\"row_heading level0 row20\" >EMG 8 AVG</th>\n",
       "                        <td id=\"T_235e8590_4d3e_11ea_bd22_f5545c085b68row20_col0\" class=\"data row20 col0\" >0.153089</td>\n",
       "            </tr>\n",
       "            <tr>\n",
       "                        <th id=\"T_235e8590_4d3e_11ea_bd22_f5545c085b68level0_row21\" class=\"row_heading level0 row21\" >EMG 4 AVG</th>\n",
       "                        <td id=\"T_235e8590_4d3e_11ea_bd22_f5545c085b68row21_col0\" class=\"data row21 col0\" >0.151704</td>\n",
       "            </tr>\n",
       "            <tr>\n",
       "                        <th id=\"T_235e8590_4d3e_11ea_bd22_f5545c085b68level0_row22\" class=\"row_heading level0 row22\" >EMG 7 AVG</th>\n",
       "                        <td id=\"T_235e8590_4d3e_11ea_bd22_f5545c085b68row22_col0\" class=\"data row22 col0\" >0.144216</td>\n",
       "            </tr>\n",
       "            <tr>\n",
       "                        <th id=\"T_235e8590_4d3e_11ea_bd22_f5545c085b68level0_row23\" class=\"row_heading level0 row23\" >EMG 3 AVG</th>\n",
       "                        <td id=\"T_235e8590_4d3e_11ea_bd22_f5545c085b68row23_col0\" class=\"data row23 col0\" >0.140423</td>\n",
       "            </tr>\n",
       "            <tr>\n",
       "                        <th id=\"T_235e8590_4d3e_11ea_bd22_f5545c085b68level0_row24\" class=\"row_heading level0 row24\" >EMG 2 MAX</th>\n",
       "                        <td id=\"T_235e8590_4d3e_11ea_bd22_f5545c085b68row24_col0\" class=\"data row24 col0\" >0.139924</td>\n",
       "            </tr>\n",
       "            <tr>\n",
       "                        <th id=\"T_235e8590_4d3e_11ea_bd22_f5545c085b68level0_row25\" class=\"row_heading level0 row25\" >EMG 2 STD</th>\n",
       "                        <td id=\"T_235e8590_4d3e_11ea_bd22_f5545c085b68row25_col0\" class=\"data row25 col0\" >0.122887</td>\n",
       "            </tr>\n",
       "            <tr>\n",
       "                        <th id=\"T_235e8590_4d3e_11ea_bd22_f5545c085b68level0_row26\" class=\"row_heading level0 row26\" >EMG 2 RMS</th>\n",
       "                        <td id=\"T_235e8590_4d3e_11ea_bd22_f5545c085b68row26_col0\" class=\"data row26 col0\" >0.122862</td>\n",
       "            </tr>\n",
       "            <tr>\n",
       "                        <th id=\"T_235e8590_4d3e_11ea_bd22_f5545c085b68level0_row27\" class=\"row_heading level0 row27\" >EMG 8 MAX</th>\n",
       "                        <td id=\"T_235e8590_4d3e_11ea_bd22_f5545c085b68row27_col0\" class=\"data row27 col0\" >0.119433</td>\n",
       "            </tr>\n",
       "            <tr>\n",
       "                        <th id=\"T_235e8590_4d3e_11ea_bd22_f5545c085b68level0_row28\" class=\"row_heading level0 row28\" >EMG 1 STD</th>\n",
       "                        <td id=\"T_235e8590_4d3e_11ea_bd22_f5545c085b68row28_col0\" class=\"data row28 col0\" >0.0980468</td>\n",
       "            </tr>\n",
       "            <tr>\n",
       "                        <th id=\"T_235e8590_4d3e_11ea_bd22_f5545c085b68level0_row29\" class=\"row_heading level0 row29\" >EMG 1 RMS</th>\n",
       "                        <td id=\"T_235e8590_4d3e_11ea_bd22_f5545c085b68row29_col0\" class=\"data row29 col0\" >0.0980132</td>\n",
       "            </tr>\n",
       "            <tr>\n",
       "                        <th id=\"T_235e8590_4d3e_11ea_bd22_f5545c085b68level0_row30\" class=\"row_heading level0 row30\" >EMG 2 AVG</th>\n",
       "                        <td id=\"T_235e8590_4d3e_11ea_bd22_f5545c085b68row30_col0\" class=\"data row30 col0\" >0.0829515</td>\n",
       "            </tr>\n",
       "            <tr>\n",
       "                        <th id=\"T_235e8590_4d3e_11ea_bd22_f5545c085b68level0_row31\" class=\"row_heading level0 row31\" >EMG 1 AVG</th>\n",
       "                        <td id=\"T_235e8590_4d3e_11ea_bd22_f5545c085b68row31_col0\" class=\"data row31 col0\" >0.0784152</td>\n",
       "            </tr>\n",
       "            <tr>\n",
       "                        <th id=\"T_235e8590_4d3e_11ea_bd22_f5545c085b68level0_row32\" class=\"row_heading level0 row32\" >EMG 8 MIN</th>\n",
       "                        <td id=\"T_235e8590_4d3e_11ea_bd22_f5545c085b68row32_col0\" class=\"data row32 col0\" >-0.11821</td>\n",
       "            </tr>\n",
       "            <tr>\n",
       "                        <th id=\"T_235e8590_4d3e_11ea_bd22_f5545c085b68level0_row33\" class=\"row_heading level0 row33\" >EMG 1 MIN</th>\n",
       "                        <td id=\"T_235e8590_4d3e_11ea_bd22_f5545c085b68row33_col0\" class=\"data row33 col0\" >-0.147358</td>\n",
       "            </tr>\n",
       "            <tr>\n",
       "                        <th id=\"T_235e8590_4d3e_11ea_bd22_f5545c085b68level0_row34\" class=\"row_heading level0 row34\" >EMG 2 MIN</th>\n",
       "                        <td id=\"T_235e8590_4d3e_11ea_bd22_f5545c085b68row34_col0\" class=\"data row34 col0\" >-0.155393</td>\n",
       "            </tr>\n",
       "            <tr>\n",
       "                        <th id=\"T_235e8590_4d3e_11ea_bd22_f5545c085b68level0_row35\" class=\"row_heading level0 row35\" >EMG 5 MIN</th>\n",
       "                        <td id=\"T_235e8590_4d3e_11ea_bd22_f5545c085b68row35_col0\" class=\"data row35 col0\" >-0.155719</td>\n",
       "            </tr>\n",
       "            <tr>\n",
       "                        <th id=\"T_235e8590_4d3e_11ea_bd22_f5545c085b68level0_row36\" class=\"row_heading level0 row36\" >EMG 4 MIN</th>\n",
       "                        <td id=\"T_235e8590_4d3e_11ea_bd22_f5545c085b68row36_col0\" class=\"data row36 col0\" >-0.160262</td>\n",
       "            </tr>\n",
       "            <tr>\n",
       "                        <th id=\"T_235e8590_4d3e_11ea_bd22_f5545c085b68level0_row37\" class=\"row_heading level0 row37\" >EMG 3 MIN</th>\n",
       "                        <td id=\"T_235e8590_4d3e_11ea_bd22_f5545c085b68row37_col0\" class=\"data row37 col0\" >-0.162042</td>\n",
       "            </tr>\n",
       "            <tr>\n",
       "                        <th id=\"T_235e8590_4d3e_11ea_bd22_f5545c085b68level0_row38\" class=\"row_heading level0 row38\" >EMG 6 MIN</th>\n",
       "                        <td id=\"T_235e8590_4d3e_11ea_bd22_f5545c085b68row38_col0\" class=\"data row38 col0\" >-0.172876</td>\n",
       "            </tr>\n",
       "            <tr>\n",
       "                        <th id=\"T_235e8590_4d3e_11ea_bd22_f5545c085b68level0_row39\" class=\"row_heading level0 row39\" >EMG 7 MIN</th>\n",
       "                        <td id=\"T_235e8590_4d3e_11ea_bd22_f5545c085b68row39_col0\" class=\"data row39 col0\" >-0.187468</td>\n",
       "            </tr>\n",
       "    </tbody></table>"
      ],
      "text/plain": [
       "<pandas.io.formats.style.Styler at 0x7ee1eca3ce90>"
      ]
     },
     "execution_count": 415,
     "metadata": {},
     "output_type": "execute_result"
    }
   ],
   "source": [
    "sorted_eigen_vectors = []\n",
    "for eigen_tuple in eig_pairs:\n",
    "    sorted_eigen_vectors.append(eigen_tuple[1])\n",
    "    \n",
    "eigen_vectors_df = pd.DataFrame(sorted_eigen_vectors)\n",
    "eigen_vectors_df.columns = (feature_df.iloc[:,:-1]).columns\n",
    "a = eigen_vectors_df.iloc[0].sort_values(ascending=False)\n",
    "pd.DataFrame(a).style.background_gradient() "
   ]
  },
  {
   "cell_type": "code",
   "execution_count": 385,
   "metadata": {},
   "outputs": [
    {
     "data": {
      "text/plain": [
       "0.17513228497380512"
      ]
     },
     "execution_count": 385,
     "metadata": {},
     "output_type": "execute_result"
    }
   ],
   "source": [
    "eig_pairs[0][1][3]"
   ]
  },
  {
   "cell_type": "code",
   "execution_count": 396,
   "metadata": {},
   "outputs": [
    {
     "data": {
      "text/plain": [
       "EMG 2 AVG    0.270684\n",
       "EMG 2 RMS    0.266802\n",
       "EMG 2 STD    0.266736\n",
       "EMG 2 MAX    0.205776\n",
       "EMG 1 RMS    0.191353\n",
       "Name: 1, dtype: float64"
      ]
     },
     "execution_count": 396,
     "metadata": {},
     "output_type": "execute_result"
    }
   ],
   "source": [
    "eigen_vectors_df.iloc[1].sort_values(ascending=False).head()"
   ]
  },
  {
   "cell_type": "code",
   "execution_count": null,
   "metadata": {},
   "outputs": [],
   "source": []
  }
 ],
 "metadata": {
  "kernelspec": {
   "display_name": "Python 3",
   "language": "python",
   "name": "python3"
  },
  "language_info": {
   "codemirror_mode": {
    "name": "ipython",
    "version": 3
   },
   "file_extension": ".py",
   "mimetype": "text/x-python",
   "name": "python",
   "nbconvert_exporter": "python",
   "pygments_lexer": "ipython3",
   "version": "3.7.4"
  }
 },
 "nbformat": 4,
 "nbformat_minor": 4
}
